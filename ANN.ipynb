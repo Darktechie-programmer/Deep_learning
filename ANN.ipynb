{
  "nbformat": 4,
  "nbformat_minor": 0,
  "metadata": {
    "kernelspec": {
      "display_name": "Python 3",
      "language": "python",
      "name": "python3"
    },
    "language_info": {
      "codemirror_mode": {
        "name": "ipython",
        "version": 3
      },
      "file_extension": ".py",
      "mimetype": "text/x-python",
      "name": "python",
      "nbconvert_exporter": "python",
      "pygments_lexer": "ipython3",
      "version": "3.7.3"
    },
    "colab": {
      "name": "ANN.ipynb",
      "provenance": [],
      "include_colab_link": true
    }
  },
  "cells": [
    {
      "cell_type": "markdown",
      "metadata": {
        "id": "view-in-github",
        "colab_type": "text"
      },
      "source": [
        "<a href=\"https://colab.research.google.com/github/Darktechie-programmer/Deep_learning/blob/master/ANN.ipynb\" target=\"_parent\"><img src=\"https://colab.research.google.com/assets/colab-badge.svg\" alt=\"Open In Colab\"/></a>"
      ]
    },
    {
      "cell_type": "markdown",
      "metadata": {
        "id": "hNO2OZxen8x6",
        "colab_type": "text"
      },
      "source": [
        "##### Keras :\n",
        "         * Keras is an open-source neural-network library written in Python. It is capable of running on top of TensorFlow, Microsoft Cognitive Toolkit, Theano, or PlaidML. Designed to enable fast experimentation with deep neural networks, it focuses on being user-friendly, modular, and extensible."
      ]
    },
    {
      "cell_type": "markdown",
      "metadata": {
        "id": "zLpUQX58n8x-",
        "colab_type": "text"
      },
      "source": [
        "#### Tensorflow :\n",
        "    * TensorFlow is a free and open-source software library for dataflow and differentiable programming across a range of tasks. It is a symbolic math library, and is also used for machine learning applications such as neural networks."
      ]
    },
    {
      "cell_type": "markdown",
      "metadata": {
        "id": "bi9ZnYZgn8yA",
        "colab_type": "text"
      },
      "source": [
        "### Artificial Neural Network"
      ]
    },
    {
      "cell_type": "code",
      "metadata": {
        "id": "sS9vLHVVn8yD",
        "colab_type": "code",
        "colab": {}
      },
      "source": [
        "# part 1 - Data Preprocessing"
      ],
      "execution_count": 0,
      "outputs": []
    },
    {
      "cell_type": "code",
      "metadata": {
        "id": "uziNvKPkn8yQ",
        "colab_type": "code",
        "colab": {}
      },
      "source": [
        "# importing the libraries\n",
        "import numpy as np\n",
        "import matplotlib.pyplot as plt\n",
        "import pandas as pd"
      ],
      "execution_count": 0,
      "outputs": []
    },
    {
      "cell_type": "code",
      "metadata": {
        "id": "WeAtkdjan8yd",
        "colab_type": "code",
        "colab": {
          "base_uri": "https://localhost:8080/",
          "height": 222
        },
        "outputId": "c209cd78-5be1-4b10-e412-083bc4e94560"
      },
      "source": [
        "# Importing the dataset\n",
        "dataset = pd.read_csv(\"sample_data/Churn_Modelling.csv\")\n",
        "dataset.head()"
      ],
      "execution_count": 32,
      "outputs": [
        {
          "output_type": "execute_result",
          "data": {
            "text/html": [
              "<div>\n",
              "<style scoped>\n",
              "    .dataframe tbody tr th:only-of-type {\n",
              "        vertical-align: middle;\n",
              "    }\n",
              "\n",
              "    .dataframe tbody tr th {\n",
              "        vertical-align: top;\n",
              "    }\n",
              "\n",
              "    .dataframe thead th {\n",
              "        text-align: right;\n",
              "    }\n",
              "</style>\n",
              "<table border=\"1\" class=\"dataframe\">\n",
              "  <thead>\n",
              "    <tr style=\"text-align: right;\">\n",
              "      <th></th>\n",
              "      <th>RowNumber</th>\n",
              "      <th>CustomerId</th>\n",
              "      <th>Surname</th>\n",
              "      <th>CreditScore</th>\n",
              "      <th>Geography</th>\n",
              "      <th>Gender</th>\n",
              "      <th>Age</th>\n",
              "      <th>Tenure</th>\n",
              "      <th>Balance</th>\n",
              "      <th>NumOfProducts</th>\n",
              "      <th>HasCrCard</th>\n",
              "      <th>IsActiveMember</th>\n",
              "      <th>EstimatedSalary</th>\n",
              "      <th>Exited</th>\n",
              "    </tr>\n",
              "  </thead>\n",
              "  <tbody>\n",
              "    <tr>\n",
              "      <th>0</th>\n",
              "      <td>1</td>\n",
              "      <td>15634602</td>\n",
              "      <td>Hargrave</td>\n",
              "      <td>619</td>\n",
              "      <td>France</td>\n",
              "      <td>Female</td>\n",
              "      <td>42</td>\n",
              "      <td>2</td>\n",
              "      <td>0.00</td>\n",
              "      <td>1</td>\n",
              "      <td>1</td>\n",
              "      <td>1</td>\n",
              "      <td>101348.88</td>\n",
              "      <td>1</td>\n",
              "    </tr>\n",
              "    <tr>\n",
              "      <th>1</th>\n",
              "      <td>2</td>\n",
              "      <td>15647311</td>\n",
              "      <td>Hill</td>\n",
              "      <td>608</td>\n",
              "      <td>Spain</td>\n",
              "      <td>Female</td>\n",
              "      <td>41</td>\n",
              "      <td>1</td>\n",
              "      <td>83807.86</td>\n",
              "      <td>1</td>\n",
              "      <td>0</td>\n",
              "      <td>1</td>\n",
              "      <td>112542.58</td>\n",
              "      <td>0</td>\n",
              "    </tr>\n",
              "    <tr>\n",
              "      <th>2</th>\n",
              "      <td>3</td>\n",
              "      <td>15619304</td>\n",
              "      <td>Onio</td>\n",
              "      <td>502</td>\n",
              "      <td>France</td>\n",
              "      <td>Female</td>\n",
              "      <td>42</td>\n",
              "      <td>8</td>\n",
              "      <td>159660.80</td>\n",
              "      <td>3</td>\n",
              "      <td>1</td>\n",
              "      <td>0</td>\n",
              "      <td>113931.57</td>\n",
              "      <td>1</td>\n",
              "    </tr>\n",
              "    <tr>\n",
              "      <th>3</th>\n",
              "      <td>4</td>\n",
              "      <td>15701354</td>\n",
              "      <td>Boni</td>\n",
              "      <td>699</td>\n",
              "      <td>France</td>\n",
              "      <td>Female</td>\n",
              "      <td>39</td>\n",
              "      <td>1</td>\n",
              "      <td>0.00</td>\n",
              "      <td>2</td>\n",
              "      <td>0</td>\n",
              "      <td>0</td>\n",
              "      <td>93826.63</td>\n",
              "      <td>0</td>\n",
              "    </tr>\n",
              "    <tr>\n",
              "      <th>4</th>\n",
              "      <td>5</td>\n",
              "      <td>15737888</td>\n",
              "      <td>Mitchell</td>\n",
              "      <td>850</td>\n",
              "      <td>Spain</td>\n",
              "      <td>Female</td>\n",
              "      <td>43</td>\n",
              "      <td>2</td>\n",
              "      <td>125510.82</td>\n",
              "      <td>1</td>\n",
              "      <td>1</td>\n",
              "      <td>1</td>\n",
              "      <td>79084.10</td>\n",
              "      <td>0</td>\n",
              "    </tr>\n",
              "  </tbody>\n",
              "</table>\n",
              "</div>"
            ],
            "text/plain": [
              "   RowNumber  CustomerId   Surname  ...  IsActiveMember EstimatedSalary Exited\n",
              "0          1    15634602  Hargrave  ...               1       101348.88      1\n",
              "1          2    15647311      Hill  ...               1       112542.58      0\n",
              "2          3    15619304      Onio  ...               0       113931.57      1\n",
              "3          4    15701354      Boni  ...               0        93826.63      0\n",
              "4          5    15737888  Mitchell  ...               1        79084.10      0\n",
              "\n",
              "[5 rows x 14 columns]"
            ]
          },
          "metadata": {
            "tags": []
          },
          "execution_count": 32
        }
      ]
    },
    {
      "cell_type": "code",
      "metadata": {
        "id": "XVsXvpWen8yq",
        "colab_type": "code",
        "colab": {
          "base_uri": "https://localhost:8080/",
          "height": 87
        },
        "outputId": "bf2b5c1b-1e34-4658-dca0-f751df1f153b"
      },
      "source": [
        "dataset.columns"
      ],
      "execution_count": 33,
      "outputs": [
        {
          "output_type": "execute_result",
          "data": {
            "text/plain": [
              "Index(['RowNumber', 'CustomerId', 'Surname', 'CreditScore', 'Geography',\n",
              "       'Gender', 'Age', 'Tenure', 'Balance', 'NumOfProducts', 'HasCrCard',\n",
              "       'IsActiveMember', 'EstimatedSalary', 'Exited'],\n",
              "      dtype='object')"
            ]
          },
          "metadata": {
            "tags": []
          },
          "execution_count": 33
        }
      ]
    },
    {
      "cell_type": "code",
      "metadata": {
        "id": "oPhQpGu3n8y0",
        "colab_type": "code",
        "colab": {}
      },
      "source": [
        "X = dataset.iloc[:,3:13]\n",
        "y = dataset.iloc[:,-1]"
      ],
      "execution_count": 0,
      "outputs": []
    },
    {
      "cell_type": "code",
      "metadata": {
        "id": "2INi-s1hn8y8",
        "colab_type": "code",
        "colab": {
          "base_uri": "https://localhost:8080/",
          "height": 202
        },
        "outputId": "ad41b2ed-9297-4703-8a30-3f725b0d3f77"
      },
      "source": [
        "X.head()"
      ],
      "execution_count": 35,
      "outputs": [
        {
          "output_type": "execute_result",
          "data": {
            "text/html": [
              "<div>\n",
              "<style scoped>\n",
              "    .dataframe tbody tr th:only-of-type {\n",
              "        vertical-align: middle;\n",
              "    }\n",
              "\n",
              "    .dataframe tbody tr th {\n",
              "        vertical-align: top;\n",
              "    }\n",
              "\n",
              "    .dataframe thead th {\n",
              "        text-align: right;\n",
              "    }\n",
              "</style>\n",
              "<table border=\"1\" class=\"dataframe\">\n",
              "  <thead>\n",
              "    <tr style=\"text-align: right;\">\n",
              "      <th></th>\n",
              "      <th>CreditScore</th>\n",
              "      <th>Geography</th>\n",
              "      <th>Gender</th>\n",
              "      <th>Age</th>\n",
              "      <th>Tenure</th>\n",
              "      <th>Balance</th>\n",
              "      <th>NumOfProducts</th>\n",
              "      <th>HasCrCard</th>\n",
              "      <th>IsActiveMember</th>\n",
              "      <th>EstimatedSalary</th>\n",
              "    </tr>\n",
              "  </thead>\n",
              "  <tbody>\n",
              "    <tr>\n",
              "      <th>0</th>\n",
              "      <td>619</td>\n",
              "      <td>France</td>\n",
              "      <td>Female</td>\n",
              "      <td>42</td>\n",
              "      <td>2</td>\n",
              "      <td>0.00</td>\n",
              "      <td>1</td>\n",
              "      <td>1</td>\n",
              "      <td>1</td>\n",
              "      <td>101348.88</td>\n",
              "    </tr>\n",
              "    <tr>\n",
              "      <th>1</th>\n",
              "      <td>608</td>\n",
              "      <td>Spain</td>\n",
              "      <td>Female</td>\n",
              "      <td>41</td>\n",
              "      <td>1</td>\n",
              "      <td>83807.86</td>\n",
              "      <td>1</td>\n",
              "      <td>0</td>\n",
              "      <td>1</td>\n",
              "      <td>112542.58</td>\n",
              "    </tr>\n",
              "    <tr>\n",
              "      <th>2</th>\n",
              "      <td>502</td>\n",
              "      <td>France</td>\n",
              "      <td>Female</td>\n",
              "      <td>42</td>\n",
              "      <td>8</td>\n",
              "      <td>159660.80</td>\n",
              "      <td>3</td>\n",
              "      <td>1</td>\n",
              "      <td>0</td>\n",
              "      <td>113931.57</td>\n",
              "    </tr>\n",
              "    <tr>\n",
              "      <th>3</th>\n",
              "      <td>699</td>\n",
              "      <td>France</td>\n",
              "      <td>Female</td>\n",
              "      <td>39</td>\n",
              "      <td>1</td>\n",
              "      <td>0.00</td>\n",
              "      <td>2</td>\n",
              "      <td>0</td>\n",
              "      <td>0</td>\n",
              "      <td>93826.63</td>\n",
              "    </tr>\n",
              "    <tr>\n",
              "      <th>4</th>\n",
              "      <td>850</td>\n",
              "      <td>Spain</td>\n",
              "      <td>Female</td>\n",
              "      <td>43</td>\n",
              "      <td>2</td>\n",
              "      <td>125510.82</td>\n",
              "      <td>1</td>\n",
              "      <td>1</td>\n",
              "      <td>1</td>\n",
              "      <td>79084.10</td>\n",
              "    </tr>\n",
              "  </tbody>\n",
              "</table>\n",
              "</div>"
            ],
            "text/plain": [
              "   CreditScore Geography  Gender  ...  HasCrCard  IsActiveMember  EstimatedSalary\n",
              "0          619    France  Female  ...          1               1        101348.88\n",
              "1          608     Spain  Female  ...          0               1        112542.58\n",
              "2          502    France  Female  ...          1               0        113931.57\n",
              "3          699    France  Female  ...          0               0         93826.63\n",
              "4          850     Spain  Female  ...          1               1         79084.10\n",
              "\n",
              "[5 rows x 10 columns]"
            ]
          },
          "metadata": {
            "tags": []
          },
          "execution_count": 35
        }
      ]
    },
    {
      "cell_type": "code",
      "metadata": {
        "id": "Bx9JkGjmn8zC",
        "colab_type": "code",
        "colab": {}
      },
      "source": [
        "# Create Dummy variables...\n",
        "geography = pd.get_dummies(X[\"Geography\"],drop_first=True)\n",
        "gender = pd.get_dummies(X['Gender'],drop_first=True) # drop_first : it drop first dummy for multicoleanerity reason.... "
      ],
      "execution_count": 0,
      "outputs": []
    },
    {
      "cell_type": "code",
      "metadata": {
        "id": "pVxFuXWKn8zK",
        "colab_type": "code",
        "colab": {
          "base_uri": "https://localhost:8080/",
          "height": 202
        },
        "outputId": "d9e187ad-4338-4809-de93-a8ad416d0e49"
      },
      "source": [
        "# Concatenate the Data Frames\n",
        "X = pd.concat([X,geography,gender],axis=1)\n",
        "X.head()"
      ],
      "execution_count": 37,
      "outputs": [
        {
          "output_type": "execute_result",
          "data": {
            "text/html": [
              "<div>\n",
              "<style scoped>\n",
              "    .dataframe tbody tr th:only-of-type {\n",
              "        vertical-align: middle;\n",
              "    }\n",
              "\n",
              "    .dataframe tbody tr th {\n",
              "        vertical-align: top;\n",
              "    }\n",
              "\n",
              "    .dataframe thead th {\n",
              "        text-align: right;\n",
              "    }\n",
              "</style>\n",
              "<table border=\"1\" class=\"dataframe\">\n",
              "  <thead>\n",
              "    <tr style=\"text-align: right;\">\n",
              "      <th></th>\n",
              "      <th>CreditScore</th>\n",
              "      <th>Geography</th>\n",
              "      <th>Gender</th>\n",
              "      <th>Age</th>\n",
              "      <th>Tenure</th>\n",
              "      <th>Balance</th>\n",
              "      <th>NumOfProducts</th>\n",
              "      <th>HasCrCard</th>\n",
              "      <th>IsActiveMember</th>\n",
              "      <th>EstimatedSalary</th>\n",
              "      <th>Germany</th>\n",
              "      <th>Spain</th>\n",
              "      <th>Male</th>\n",
              "    </tr>\n",
              "  </thead>\n",
              "  <tbody>\n",
              "    <tr>\n",
              "      <th>0</th>\n",
              "      <td>619</td>\n",
              "      <td>France</td>\n",
              "      <td>Female</td>\n",
              "      <td>42</td>\n",
              "      <td>2</td>\n",
              "      <td>0.00</td>\n",
              "      <td>1</td>\n",
              "      <td>1</td>\n",
              "      <td>1</td>\n",
              "      <td>101348.88</td>\n",
              "      <td>0</td>\n",
              "      <td>0</td>\n",
              "      <td>0</td>\n",
              "    </tr>\n",
              "    <tr>\n",
              "      <th>1</th>\n",
              "      <td>608</td>\n",
              "      <td>Spain</td>\n",
              "      <td>Female</td>\n",
              "      <td>41</td>\n",
              "      <td>1</td>\n",
              "      <td>83807.86</td>\n",
              "      <td>1</td>\n",
              "      <td>0</td>\n",
              "      <td>1</td>\n",
              "      <td>112542.58</td>\n",
              "      <td>0</td>\n",
              "      <td>1</td>\n",
              "      <td>0</td>\n",
              "    </tr>\n",
              "    <tr>\n",
              "      <th>2</th>\n",
              "      <td>502</td>\n",
              "      <td>France</td>\n",
              "      <td>Female</td>\n",
              "      <td>42</td>\n",
              "      <td>8</td>\n",
              "      <td>159660.80</td>\n",
              "      <td>3</td>\n",
              "      <td>1</td>\n",
              "      <td>0</td>\n",
              "      <td>113931.57</td>\n",
              "      <td>0</td>\n",
              "      <td>0</td>\n",
              "      <td>0</td>\n",
              "    </tr>\n",
              "    <tr>\n",
              "      <th>3</th>\n",
              "      <td>699</td>\n",
              "      <td>France</td>\n",
              "      <td>Female</td>\n",
              "      <td>39</td>\n",
              "      <td>1</td>\n",
              "      <td>0.00</td>\n",
              "      <td>2</td>\n",
              "      <td>0</td>\n",
              "      <td>0</td>\n",
              "      <td>93826.63</td>\n",
              "      <td>0</td>\n",
              "      <td>0</td>\n",
              "      <td>0</td>\n",
              "    </tr>\n",
              "    <tr>\n",
              "      <th>4</th>\n",
              "      <td>850</td>\n",
              "      <td>Spain</td>\n",
              "      <td>Female</td>\n",
              "      <td>43</td>\n",
              "      <td>2</td>\n",
              "      <td>125510.82</td>\n",
              "      <td>1</td>\n",
              "      <td>1</td>\n",
              "      <td>1</td>\n",
              "      <td>79084.10</td>\n",
              "      <td>0</td>\n",
              "      <td>1</td>\n",
              "      <td>0</td>\n",
              "    </tr>\n",
              "  </tbody>\n",
              "</table>\n",
              "</div>"
            ],
            "text/plain": [
              "   CreditScore Geography  Gender  Age  ...  EstimatedSalary  Germany  Spain  Male\n",
              "0          619    France  Female   42  ...        101348.88        0      0     0\n",
              "1          608     Spain  Female   41  ...        112542.58        0      1     0\n",
              "2          502    France  Female   42  ...        113931.57        0      0     0\n",
              "3          699    France  Female   39  ...         93826.63        0      0     0\n",
              "4          850     Spain  Female   43  ...         79084.10        0      1     0\n",
              "\n",
              "[5 rows x 13 columns]"
            ]
          },
          "metadata": {
            "tags": []
          },
          "execution_count": 37
        }
      ]
    },
    {
      "cell_type": "code",
      "metadata": {
        "id": "0Y5syBk4n8zV",
        "colab_type": "code",
        "colab": {}
      },
      "source": [
        "# Drop Unnecessary columns\n",
        "X = X.drop(columns=['Geography','Gender'],axis=1)"
      ],
      "execution_count": 0,
      "outputs": []
    },
    {
      "cell_type": "code",
      "metadata": {
        "id": "f_i8uadYn8zb",
        "colab_type": "code",
        "colab": {
          "base_uri": "https://localhost:8080/",
          "height": 202
        },
        "outputId": "51743c3e-221f-4c1d-b221-fd210479a482"
      },
      "source": [
        "X.head()\n",
        "# X.columns"
      ],
      "execution_count": 39,
      "outputs": [
        {
          "output_type": "execute_result",
          "data": {
            "text/html": [
              "<div>\n",
              "<style scoped>\n",
              "    .dataframe tbody tr th:only-of-type {\n",
              "        vertical-align: middle;\n",
              "    }\n",
              "\n",
              "    .dataframe tbody tr th {\n",
              "        vertical-align: top;\n",
              "    }\n",
              "\n",
              "    .dataframe thead th {\n",
              "        text-align: right;\n",
              "    }\n",
              "</style>\n",
              "<table border=\"1\" class=\"dataframe\">\n",
              "  <thead>\n",
              "    <tr style=\"text-align: right;\">\n",
              "      <th></th>\n",
              "      <th>CreditScore</th>\n",
              "      <th>Age</th>\n",
              "      <th>Tenure</th>\n",
              "      <th>Balance</th>\n",
              "      <th>NumOfProducts</th>\n",
              "      <th>HasCrCard</th>\n",
              "      <th>IsActiveMember</th>\n",
              "      <th>EstimatedSalary</th>\n",
              "      <th>Germany</th>\n",
              "      <th>Spain</th>\n",
              "      <th>Male</th>\n",
              "    </tr>\n",
              "  </thead>\n",
              "  <tbody>\n",
              "    <tr>\n",
              "      <th>0</th>\n",
              "      <td>619</td>\n",
              "      <td>42</td>\n",
              "      <td>2</td>\n",
              "      <td>0.00</td>\n",
              "      <td>1</td>\n",
              "      <td>1</td>\n",
              "      <td>1</td>\n",
              "      <td>101348.88</td>\n",
              "      <td>0</td>\n",
              "      <td>0</td>\n",
              "      <td>0</td>\n",
              "    </tr>\n",
              "    <tr>\n",
              "      <th>1</th>\n",
              "      <td>608</td>\n",
              "      <td>41</td>\n",
              "      <td>1</td>\n",
              "      <td>83807.86</td>\n",
              "      <td>1</td>\n",
              "      <td>0</td>\n",
              "      <td>1</td>\n",
              "      <td>112542.58</td>\n",
              "      <td>0</td>\n",
              "      <td>1</td>\n",
              "      <td>0</td>\n",
              "    </tr>\n",
              "    <tr>\n",
              "      <th>2</th>\n",
              "      <td>502</td>\n",
              "      <td>42</td>\n",
              "      <td>8</td>\n",
              "      <td>159660.80</td>\n",
              "      <td>3</td>\n",
              "      <td>1</td>\n",
              "      <td>0</td>\n",
              "      <td>113931.57</td>\n",
              "      <td>0</td>\n",
              "      <td>0</td>\n",
              "      <td>0</td>\n",
              "    </tr>\n",
              "    <tr>\n",
              "      <th>3</th>\n",
              "      <td>699</td>\n",
              "      <td>39</td>\n",
              "      <td>1</td>\n",
              "      <td>0.00</td>\n",
              "      <td>2</td>\n",
              "      <td>0</td>\n",
              "      <td>0</td>\n",
              "      <td>93826.63</td>\n",
              "      <td>0</td>\n",
              "      <td>0</td>\n",
              "      <td>0</td>\n",
              "    </tr>\n",
              "    <tr>\n",
              "      <th>4</th>\n",
              "      <td>850</td>\n",
              "      <td>43</td>\n",
              "      <td>2</td>\n",
              "      <td>125510.82</td>\n",
              "      <td>1</td>\n",
              "      <td>1</td>\n",
              "      <td>1</td>\n",
              "      <td>79084.10</td>\n",
              "      <td>0</td>\n",
              "      <td>1</td>\n",
              "      <td>0</td>\n",
              "    </tr>\n",
              "  </tbody>\n",
              "</table>\n",
              "</div>"
            ],
            "text/plain": [
              "   CreditScore  Age  Tenure    Balance  ...  EstimatedSalary  Germany  Spain  Male\n",
              "0          619   42       2       0.00  ...        101348.88        0      0     0\n",
              "1          608   41       1   83807.86  ...        112542.58        0      1     0\n",
              "2          502   42       8  159660.80  ...        113931.57        0      0     0\n",
              "3          699   39       1       0.00  ...         93826.63        0      0     0\n",
              "4          850   43       2  125510.82  ...         79084.10        0      1     0\n",
              "\n",
              "[5 rows x 11 columns]"
            ]
          },
          "metadata": {
            "tags": []
          },
          "execution_count": 39
        }
      ]
    },
    {
      "cell_type": "code",
      "metadata": {
        "id": "gwr7Hmzzn8zh",
        "colab_type": "code",
        "colab": {}
      },
      "source": [
        "# Spliting dataset into traing set to testing set....\n",
        "from sklearn.model_selection import train_test_split\n",
        "X_train, X_test, y_train, y_test = train_test_split(X, y, test_size=0.2, random_state=0)"
      ],
      "execution_count": 0,
      "outputs": []
    },
    {
      "cell_type": "code",
      "metadata": {
        "id": "jHRjJb7wn8zo",
        "colab_type": "code",
        "colab": {}
      },
      "source": [
        "# Feature Scaling \n",
        "from sklearn.preprocessing import StandardScaler\n",
        "sc = StandardScaler()\n",
        "X_train = sc.fit_transform(X_train)\n",
        "X_test = sc.transform(X_test)"
      ],
      "execution_count": 0,
      "outputs": []
    },
    {
      "cell_type": "code",
      "metadata": {
        "id": "QC6N_xW8n8zu",
        "colab_type": "code",
        "colab": {}
      },
      "source": [
        "# part 2 - Now let's make ANN"
      ],
      "execution_count": 0,
      "outputs": []
    },
    {
      "cell_type": "code",
      "metadata": {
        "id": "duPPWhktn8zz",
        "colab_type": "code",
        "colab": {}
      },
      "source": [
        "# Importing the keras libraries and packages..\n",
        "import keras\n",
        "from keras.models import Sequential  # most use...\n",
        "from keras.layers import Dense   # for creating hidden layers use it..\n",
        "# from keras.layers import LeakyReLU,PReLU,ELU \n",
        "from keras.layers import Dropout  # dropout is used when the deep neural network"
      ],
      "execution_count": 0,
      "outputs": []
    },
    {
      "cell_type": "code",
      "metadata": {
        "id": "QRVlKfcqn8z5",
        "colab_type": "code",
        "colab": {}
      },
      "source": [
        "# Initialising the ANN\n",
        "classifier = Sequential()"
      ],
      "execution_count": 0,
      "outputs": []
    },
    {
      "cell_type": "code",
      "metadata": {
        "id": "Szis0lK1n80A",
        "colab_type": "code",
        "colab": {}
      },
      "source": [
        "# Adding the input layer and the first hidden layer..\n",
        "classifier.add(Dense(units=6, kernel_initializer=\"he_uniform\",activation='relu',input_dim=11))\n",
        "# whenever use the kernel_initializer by he_uniform or he_normal that time use relu.. and vice-varsa\n",
        "classifier.add(Dropout(0.3))"
      ],
      "execution_count": 0,
      "outputs": []
    },
    {
      "cell_type": "code",
      "metadata": {
        "id": "urZZzqznn80H",
        "colab_type": "code",
        "colab": {}
      },
      "source": [
        "# Adding the second hidden layer\n",
        "classifier.add(Dense(units=6, kernel_initializer=\"he_uniform\", activation='relu'))\n",
        "classifier.add(Dropout(0.3))"
      ],
      "execution_count": 0,
      "outputs": []
    },
    {
      "cell_type": "markdown",
      "metadata": {
        "id": "_6BTtE4B4V9J",
        "colab_type": "text"
      },
      "source": [
        "  * Always remember hidden layer are relu activation and the kernel_initializer are he_uni. or he_nor.....ok"
      ]
    },
    {
      "cell_type": "code",
      "metadata": {
        "id": "WXwI6-AauUKV",
        "colab_type": "code",
        "colab": {}
      },
      "source": [
        "# Adding the third hidden layer\n",
        "classifier.add(Dense(units=6, kernel_initializer=\"he_uniform\", activation='relu'))\n",
        "classifier.add(Dropout(0.3))"
      ],
      "execution_count": 0,
      "outputs": []
    },
    {
      "cell_type": "code",
      "metadata": {
        "id": "8TLJUaHxn80N",
        "colab_type": "code",
        "colab": {}
      },
      "source": [
        "# Adding the output layer\n",
        "classifier.add(Dense(units=1, kernel_initializer=\"glorot_uniform\", activation='sigmoid'))"
      ],
      "execution_count": 0,
      "outputs": []
    },
    {
      "cell_type": "code",
      "metadata": {
        "id": "YQGmdGqvn80R",
        "colab_type": "code",
        "colab": {}
      },
      "source": [
        "# compiling the ANN\n",
        "classifier.compile(optimizer='adam', loss='binary_crossentropy', metrics=['accuracy'])\n",
        "# note: we have multiple optimizer but adam is most use and batter one....\n",
        "# note: whenever the output in the 0 and 1 then that time use loss in binary_crossentropy...\n",
        "# note: whenever the output in the multiple category then use loss in categorical_crossentropy..."
      ],
      "execution_count": 0,
      "outputs": []
    },
    {
      "cell_type": "code",
      "metadata": {
        "id": "aPb2H4jmn80W",
        "colab_type": "code",
        "colab": {
          "base_uri": "https://localhost:8080/",
          "height": 399
        },
        "outputId": "2dc174ae-3d83-4aaf-f0ee-cd7d3815380d"
      },
      "source": [
        "classifier.summary() # get the summary"
      ],
      "execution_count": 66,
      "outputs": [
        {
          "output_type": "stream",
          "text": [
            "Model: \"sequential_3\"\n",
            "_________________________________________________________________\n",
            "Layer (type)                 Output Shape              Param #   \n",
            "=================================================================\n",
            "dense_8 (Dense)              (None, 6)                 72        \n",
            "_________________________________________________________________\n",
            "dropout_1 (Dropout)          (None, 6)                 0         \n",
            "_________________________________________________________________\n",
            "dense_9 (Dense)              (None, 6)                 42        \n",
            "_________________________________________________________________\n",
            "dropout_2 (Dropout)          (None, 6)                 0         \n",
            "_________________________________________________________________\n",
            "dense_10 (Dense)             (None, 6)                 42        \n",
            "_________________________________________________________________\n",
            "dropout_3 (Dropout)          (None, 6)                 0         \n",
            "_________________________________________________________________\n",
            "dense_11 (Dense)             (None, 1)                 7         \n",
            "=================================================================\n",
            "Total params: 163\n",
            "Trainable params: 163\n",
            "Non-trainable params: 0\n",
            "_________________________________________________________________\n"
          ],
          "name": "stdout"
        }
      ]
    },
    {
      "cell_type": "code",
      "metadata": {
        "id": "1sBDtfJ5n80b",
        "colab_type": "code",
        "colab": {
          "base_uri": "https://localhost:8080/",
          "height": 1000
        },
        "outputId": "3f6688c9-456e-4250-9fa4-25fc20800b0f"
      },
      "source": [
        "# Fitting the ANN to the Training set \n",
        "model_history = classifier.fit(X_train, y_train, validation_split=0.33, batch_size=10, nb_epoch=100)\n",
        "#note: batch_size is 10 so the ram load size is low so not affect to the system RAM and easily exected...."
      ],
      "execution_count": 67,
      "outputs": [
        {
          "output_type": "stream",
          "text": [
            "/usr/local/lib/python3.6/dist-packages/ipykernel_launcher.py:1: UserWarning: The `nb_epoch` argument in `fit` has been renamed `epochs`.\n",
            "  \"\"\"Entry point for launching an IPython kernel.\n"
          ],
          "name": "stderr"
        },
        {
          "output_type": "stream",
          "text": [
            "Train on 5359 samples, validate on 2641 samples\n",
            "Epoch 1/100\n",
            "5359/5359 [==============================] - 1s 221us/step - loss: 0.6285 - accuracy: 0.7882 - val_loss: 0.5271 - val_accuracy: 0.7955\n",
            "Epoch 2/100\n",
            "5359/5359 [==============================] - 1s 175us/step - loss: 0.5440 - accuracy: 0.7960 - val_loss: 0.5051 - val_accuracy: 0.7955\n",
            "Epoch 3/100\n",
            "5359/5359 [==============================] - 1s 173us/step - loss: 0.5154 - accuracy: 0.7960 - val_loss: 0.4947 - val_accuracy: 0.7955\n",
            "Epoch 4/100\n",
            "5359/5359 [==============================] - 1s 178us/step - loss: 0.5089 - accuracy: 0.7962 - val_loss: 0.4908 - val_accuracy: 0.7955\n",
            "Epoch 5/100\n",
            "5359/5359 [==============================] - 1s 179us/step - loss: 0.4982 - accuracy: 0.7962 - val_loss: 0.4875 - val_accuracy: 0.7955\n",
            "Epoch 6/100\n",
            "5359/5359 [==============================] - 1s 179us/step - loss: 0.4929 - accuracy: 0.7962 - val_loss: 0.4779 - val_accuracy: 0.7955\n",
            "Epoch 7/100\n",
            "5359/5359 [==============================] - 1s 172us/step - loss: 0.4932 - accuracy: 0.7962 - val_loss: 0.4744 - val_accuracy: 0.7955\n",
            "Epoch 8/100\n",
            "5359/5359 [==============================] - 1s 175us/step - loss: 0.4804 - accuracy: 0.7960 - val_loss: 0.4659 - val_accuracy: 0.7955\n",
            "Epoch 9/100\n",
            "5359/5359 [==============================] - 1s 184us/step - loss: 0.4795 - accuracy: 0.7970 - val_loss: 0.4612 - val_accuracy: 0.7955\n",
            "Epoch 10/100\n",
            "5359/5359 [==============================] - 1s 183us/step - loss: 0.4781 - accuracy: 0.7962 - val_loss: 0.4571 - val_accuracy: 0.7955\n",
            "Epoch 11/100\n",
            "5359/5359 [==============================] - 1s 178us/step - loss: 0.4725 - accuracy: 0.7955 - val_loss: 0.4497 - val_accuracy: 0.7955\n",
            "Epoch 12/100\n",
            "5359/5359 [==============================] - 1s 173us/step - loss: 0.4648 - accuracy: 0.7977 - val_loss: 0.4444 - val_accuracy: 0.7955\n",
            "Epoch 13/100\n",
            "5359/5359 [==============================] - 1s 180us/step - loss: 0.4621 - accuracy: 0.7988 - val_loss: 0.4403 - val_accuracy: 0.7955\n",
            "Epoch 14/100\n",
            "5359/5359 [==============================] - 1s 189us/step - loss: 0.4559 - accuracy: 0.8029 - val_loss: 0.4331 - val_accuracy: 0.7974\n",
            "Epoch 15/100\n",
            "5359/5359 [==============================] - 1s 186us/step - loss: 0.4536 - accuracy: 0.8080 - val_loss: 0.4317 - val_accuracy: 0.7978\n",
            "Epoch 16/100\n",
            "5359/5359 [==============================] - 1s 179us/step - loss: 0.4556 - accuracy: 0.8043 - val_loss: 0.4281 - val_accuracy: 0.7986\n",
            "Epoch 17/100\n",
            "5359/5359 [==============================] - 1s 177us/step - loss: 0.4434 - accuracy: 0.8127 - val_loss: 0.4223 - val_accuracy: 0.8042\n",
            "Epoch 18/100\n",
            "5359/5359 [==============================] - 1s 179us/step - loss: 0.4421 - accuracy: 0.8119 - val_loss: 0.4214 - val_accuracy: 0.8076\n",
            "Epoch 19/100\n",
            "5359/5359 [==============================] - 1s 178us/step - loss: 0.4389 - accuracy: 0.8134 - val_loss: 0.4195 - val_accuracy: 0.8027\n",
            "Epoch 20/100\n",
            "5359/5359 [==============================] - 1s 174us/step - loss: 0.4326 - accuracy: 0.8186 - val_loss: 0.4144 - val_accuracy: 0.8103\n",
            "Epoch 21/100\n",
            "5359/5359 [==============================] - 1s 185us/step - loss: 0.4396 - accuracy: 0.8117 - val_loss: 0.4152 - val_accuracy: 0.8073\n",
            "Epoch 22/100\n",
            "5359/5359 [==============================] - 1s 178us/step - loss: 0.4381 - accuracy: 0.8156 - val_loss: 0.4144 - val_accuracy: 0.8088\n",
            "Epoch 23/100\n",
            "5359/5359 [==============================] - 1s 194us/step - loss: 0.4366 - accuracy: 0.8110 - val_loss: 0.4148 - val_accuracy: 0.8058\n",
            "Epoch 24/100\n",
            "5359/5359 [==============================] - 1s 180us/step - loss: 0.4343 - accuracy: 0.8149 - val_loss: 0.4159 - val_accuracy: 0.8046\n",
            "Epoch 25/100\n",
            "5359/5359 [==============================] - 1s 176us/step - loss: 0.4361 - accuracy: 0.8140 - val_loss: 0.4147 - val_accuracy: 0.8069\n",
            "Epoch 26/100\n",
            "5359/5359 [==============================] - 1s 176us/step - loss: 0.4292 - accuracy: 0.8151 - val_loss: 0.4123 - val_accuracy: 0.8061\n",
            "Epoch 27/100\n",
            "5359/5359 [==============================] - 1s 184us/step - loss: 0.4392 - accuracy: 0.8128 - val_loss: 0.4162 - val_accuracy: 0.8076\n",
            "Epoch 28/100\n",
            "5359/5359 [==============================] - 1s 170us/step - loss: 0.4358 - accuracy: 0.8130 - val_loss: 0.4164 - val_accuracy: 0.8054\n",
            "Epoch 29/100\n",
            "5359/5359 [==============================] - 1s 175us/step - loss: 0.4371 - accuracy: 0.8117 - val_loss: 0.4164 - val_accuracy: 0.8050\n",
            "Epoch 30/100\n",
            "5359/5359 [==============================] - 1s 175us/step - loss: 0.4382 - accuracy: 0.8100 - val_loss: 0.4136 - val_accuracy: 0.8061\n",
            "Epoch 31/100\n",
            "5359/5359 [==============================] - 1s 180us/step - loss: 0.4361 - accuracy: 0.8093 - val_loss: 0.4129 - val_accuracy: 0.8050\n",
            "Epoch 32/100\n",
            "5359/5359 [==============================] - 1s 183us/step - loss: 0.4331 - accuracy: 0.8084 - val_loss: 0.4086 - val_accuracy: 0.8061\n",
            "Epoch 33/100\n",
            "5359/5359 [==============================] - 1s 176us/step - loss: 0.4288 - accuracy: 0.8181 - val_loss: 0.4064 - val_accuracy: 0.8080\n",
            "Epoch 34/100\n",
            "5359/5359 [==============================] - 1s 175us/step - loss: 0.4245 - accuracy: 0.8125 - val_loss: 0.4051 - val_accuracy: 0.8065\n",
            "Epoch 35/100\n",
            "5359/5359 [==============================] - 1s 174us/step - loss: 0.4273 - accuracy: 0.8143 - val_loss: 0.4037 - val_accuracy: 0.8103\n",
            "Epoch 36/100\n",
            "5359/5359 [==============================] - 1s 175us/step - loss: 0.4209 - accuracy: 0.8190 - val_loss: 0.3988 - val_accuracy: 0.8167\n",
            "Epoch 37/100\n",
            "5359/5359 [==============================] - 1s 175us/step - loss: 0.4198 - accuracy: 0.8177 - val_loss: 0.3982 - val_accuracy: 0.8114\n",
            "Epoch 38/100\n",
            "5359/5359 [==============================] - 1s 176us/step - loss: 0.4203 - accuracy: 0.8181 - val_loss: 0.3932 - val_accuracy: 0.8205\n",
            "Epoch 39/100\n",
            "5359/5359 [==============================] - 1s 185us/step - loss: 0.4239 - accuracy: 0.8207 - val_loss: 0.3942 - val_accuracy: 0.8270\n",
            "Epoch 40/100\n",
            "5359/5359 [==============================] - 1s 170us/step - loss: 0.4155 - accuracy: 0.8231 - val_loss: 0.3899 - val_accuracy: 0.8190\n",
            "Epoch 41/100\n",
            "5359/5359 [==============================] - 1s 176us/step - loss: 0.4089 - accuracy: 0.8253 - val_loss: 0.3847 - val_accuracy: 0.8319\n",
            "Epoch 42/100\n",
            "5359/5359 [==============================] - 1s 170us/step - loss: 0.4170 - accuracy: 0.8220 - val_loss: 0.3855 - val_accuracy: 0.8326\n",
            "Epoch 43/100\n",
            "5359/5359 [==============================] - 1s 177us/step - loss: 0.4172 - accuracy: 0.8240 - val_loss: 0.3873 - val_accuracy: 0.8254\n",
            "Epoch 44/100\n",
            "5359/5359 [==============================] - 1s 175us/step - loss: 0.4145 - accuracy: 0.8173 - val_loss: 0.3847 - val_accuracy: 0.8273\n",
            "Epoch 45/100\n",
            "5359/5359 [==============================] - 1s 183us/step - loss: 0.4139 - accuracy: 0.8207 - val_loss: 0.3872 - val_accuracy: 0.8300\n",
            "Epoch 46/100\n",
            "5359/5359 [==============================] - 1s 177us/step - loss: 0.4109 - accuracy: 0.8201 - val_loss: 0.3854 - val_accuracy: 0.8285\n",
            "Epoch 47/100\n",
            "5359/5359 [==============================] - 1s 168us/step - loss: 0.4217 - accuracy: 0.8188 - val_loss: 0.3865 - val_accuracy: 0.8296\n",
            "Epoch 48/100\n",
            "5359/5359 [==============================] - 1s 175us/step - loss: 0.4205 - accuracy: 0.8182 - val_loss: 0.3852 - val_accuracy: 0.8277\n",
            "Epoch 49/100\n",
            "5359/5359 [==============================] - 1s 169us/step - loss: 0.4150 - accuracy: 0.8242 - val_loss: 0.3837 - val_accuracy: 0.8262\n",
            "Epoch 50/100\n",
            "5359/5359 [==============================] - 1s 179us/step - loss: 0.4155 - accuracy: 0.8224 - val_loss: 0.3841 - val_accuracy: 0.8307\n",
            "Epoch 51/100\n",
            "5359/5359 [==============================] - 1s 175us/step - loss: 0.4103 - accuracy: 0.8203 - val_loss: 0.3849 - val_accuracy: 0.8292\n",
            "Epoch 52/100\n",
            "5359/5359 [==============================] - 1s 178us/step - loss: 0.4146 - accuracy: 0.8173 - val_loss: 0.3858 - val_accuracy: 0.8292\n",
            "Epoch 53/100\n",
            "5359/5359 [==============================] - 1s 189us/step - loss: 0.4171 - accuracy: 0.8196 - val_loss: 0.3831 - val_accuracy: 0.8311\n",
            "Epoch 54/100\n",
            "5359/5359 [==============================] - 1s 177us/step - loss: 0.4102 - accuracy: 0.8240 - val_loss: 0.3835 - val_accuracy: 0.8273\n",
            "Epoch 55/100\n",
            "5359/5359 [==============================] - 1s 183us/step - loss: 0.4139 - accuracy: 0.8194 - val_loss: 0.3838 - val_accuracy: 0.8281\n",
            "Epoch 56/100\n",
            "5359/5359 [==============================] - 1s 179us/step - loss: 0.4136 - accuracy: 0.8207 - val_loss: 0.3805 - val_accuracy: 0.8277\n",
            "Epoch 57/100\n",
            "5359/5359 [==============================] - 1s 183us/step - loss: 0.4098 - accuracy: 0.8212 - val_loss: 0.3827 - val_accuracy: 0.8285\n",
            "Epoch 58/100\n",
            "5359/5359 [==============================] - 1s 176us/step - loss: 0.4094 - accuracy: 0.8214 - val_loss: 0.3813 - val_accuracy: 0.8300\n",
            "Epoch 59/100\n",
            "5359/5359 [==============================] - 1s 176us/step - loss: 0.4046 - accuracy: 0.8242 - val_loss: 0.3805 - val_accuracy: 0.8300\n",
            "Epoch 60/100\n",
            "5359/5359 [==============================] - 1s 177us/step - loss: 0.4152 - accuracy: 0.8229 - val_loss: 0.3802 - val_accuracy: 0.8311\n",
            "Epoch 61/100\n",
            "5359/5359 [==============================] - 1s 183us/step - loss: 0.4120 - accuracy: 0.8222 - val_loss: 0.3831 - val_accuracy: 0.8296\n",
            "Epoch 62/100\n",
            "5359/5359 [==============================] - 1s 178us/step - loss: 0.4112 - accuracy: 0.8186 - val_loss: 0.3806 - val_accuracy: 0.8307\n",
            "Epoch 63/100\n",
            "5359/5359 [==============================] - 1s 181us/step - loss: 0.4088 - accuracy: 0.8210 - val_loss: 0.3804 - val_accuracy: 0.8326\n",
            "Epoch 64/100\n",
            "5359/5359 [==============================] - 1s 177us/step - loss: 0.4072 - accuracy: 0.8209 - val_loss: 0.3801 - val_accuracy: 0.8285\n",
            "Epoch 65/100\n",
            "5359/5359 [==============================] - 1s 180us/step - loss: 0.4158 - accuracy: 0.8182 - val_loss: 0.3804 - val_accuracy: 0.8285\n",
            "Epoch 66/100\n",
            "5359/5359 [==============================] - 1s 176us/step - loss: 0.4097 - accuracy: 0.8238 - val_loss: 0.3800 - val_accuracy: 0.8338\n",
            "Epoch 67/100\n",
            "5359/5359 [==============================] - 1s 176us/step - loss: 0.4071 - accuracy: 0.8214 - val_loss: 0.3795 - val_accuracy: 0.8311\n",
            "Epoch 68/100\n",
            "5359/5359 [==============================] - 1s 175us/step - loss: 0.4107 - accuracy: 0.8261 - val_loss: 0.3807 - val_accuracy: 0.8277\n",
            "Epoch 69/100\n",
            "5359/5359 [==============================] - 1s 174us/step - loss: 0.4130 - accuracy: 0.8235 - val_loss: 0.3794 - val_accuracy: 0.8326\n",
            "Epoch 70/100\n",
            "5359/5359 [==============================] - 1s 177us/step - loss: 0.4117 - accuracy: 0.8182 - val_loss: 0.3816 - val_accuracy: 0.8330\n",
            "Epoch 71/100\n",
            "5359/5359 [==============================] - 1s 180us/step - loss: 0.4075 - accuracy: 0.8227 - val_loss: 0.3797 - val_accuracy: 0.8281\n",
            "Epoch 72/100\n",
            "5359/5359 [==============================] - 1s 177us/step - loss: 0.4169 - accuracy: 0.8182 - val_loss: 0.3831 - val_accuracy: 0.8292\n",
            "Epoch 73/100\n",
            "5359/5359 [==============================] - 1s 183us/step - loss: 0.4061 - accuracy: 0.8201 - val_loss: 0.3778 - val_accuracy: 0.8307\n",
            "Epoch 74/100\n",
            "5359/5359 [==============================] - 1s 185us/step - loss: 0.4120 - accuracy: 0.8238 - val_loss: 0.3797 - val_accuracy: 0.8345\n",
            "Epoch 75/100\n",
            "5359/5359 [==============================] - 1s 177us/step - loss: 0.4129 - accuracy: 0.8194 - val_loss: 0.3787 - val_accuracy: 0.8353\n",
            "Epoch 76/100\n",
            "5359/5359 [==============================] - 1s 174us/step - loss: 0.4092 - accuracy: 0.8201 - val_loss: 0.3795 - val_accuracy: 0.8315\n",
            "Epoch 77/100\n",
            "5359/5359 [==============================] - 1s 168us/step - loss: 0.4068 - accuracy: 0.8259 - val_loss: 0.3789 - val_accuracy: 0.8334\n",
            "Epoch 78/100\n",
            "5359/5359 [==============================] - 1s 168us/step - loss: 0.4040 - accuracy: 0.8214 - val_loss: 0.3779 - val_accuracy: 0.8349\n",
            "Epoch 79/100\n",
            "5359/5359 [==============================] - 1s 169us/step - loss: 0.4069 - accuracy: 0.8199 - val_loss: 0.3779 - val_accuracy: 0.8307\n",
            "Epoch 80/100\n",
            "5359/5359 [==============================] - 1s 170us/step - loss: 0.4133 - accuracy: 0.8229 - val_loss: 0.3784 - val_accuracy: 0.8326\n",
            "Epoch 81/100\n",
            "5359/5359 [==============================] - 1s 168us/step - loss: 0.4108 - accuracy: 0.8229 - val_loss: 0.3798 - val_accuracy: 0.8323\n",
            "Epoch 82/100\n",
            "5359/5359 [==============================] - 1s 167us/step - loss: 0.4055 - accuracy: 0.8306 - val_loss: 0.3766 - val_accuracy: 0.8368\n",
            "Epoch 83/100\n",
            "5359/5359 [==============================] - 1s 178us/step - loss: 0.4097 - accuracy: 0.8225 - val_loss: 0.3793 - val_accuracy: 0.8338\n",
            "Epoch 84/100\n",
            "5359/5359 [==============================] - 1s 186us/step - loss: 0.4077 - accuracy: 0.8253 - val_loss: 0.3791 - val_accuracy: 0.8326\n",
            "Epoch 85/100\n",
            "5359/5359 [==============================] - 1s 176us/step - loss: 0.4041 - accuracy: 0.8237 - val_loss: 0.3798 - val_accuracy: 0.8326\n",
            "Epoch 86/100\n",
            "5359/5359 [==============================] - 1s 176us/step - loss: 0.4113 - accuracy: 0.8207 - val_loss: 0.3772 - val_accuracy: 0.8319\n",
            "Epoch 87/100\n",
            "5359/5359 [==============================] - 1s 175us/step - loss: 0.4133 - accuracy: 0.8173 - val_loss: 0.3798 - val_accuracy: 0.8304\n",
            "Epoch 88/100\n",
            "5359/5359 [==============================] - 1s 177us/step - loss: 0.4030 - accuracy: 0.8266 - val_loss: 0.3776 - val_accuracy: 0.8330\n",
            "Epoch 89/100\n",
            "5359/5359 [==============================] - 1s 173us/step - loss: 0.4084 - accuracy: 0.8182 - val_loss: 0.3792 - val_accuracy: 0.8323\n",
            "Epoch 90/100\n",
            "5359/5359 [==============================] - 1s 176us/step - loss: 0.4056 - accuracy: 0.8233 - val_loss: 0.3768 - val_accuracy: 0.8319\n",
            "Epoch 91/100\n",
            "5359/5359 [==============================] - 1s 176us/step - loss: 0.4067 - accuracy: 0.8250 - val_loss: 0.3787 - val_accuracy: 0.8330\n",
            "Epoch 92/100\n",
            "5359/5359 [==============================] - 1s 174us/step - loss: 0.4085 - accuracy: 0.8235 - val_loss: 0.3778 - val_accuracy: 0.8334\n",
            "Epoch 93/100\n",
            "5359/5359 [==============================] - 1s 172us/step - loss: 0.4011 - accuracy: 0.8255 - val_loss: 0.3754 - val_accuracy: 0.8376\n",
            "Epoch 94/100\n",
            "5359/5359 [==============================] - 1s 169us/step - loss: 0.4003 - accuracy: 0.8235 - val_loss: 0.3764 - val_accuracy: 0.8330\n",
            "Epoch 95/100\n",
            "5359/5359 [==============================] - 1s 181us/step - loss: 0.4044 - accuracy: 0.8270 - val_loss: 0.3749 - val_accuracy: 0.8360\n",
            "Epoch 96/100\n",
            "5359/5359 [==============================] - 1s 170us/step - loss: 0.4091 - accuracy: 0.8250 - val_loss: 0.3757 - val_accuracy: 0.8326\n",
            "Epoch 97/100\n",
            "5359/5359 [==============================] - 1s 170us/step - loss: 0.4080 - accuracy: 0.8225 - val_loss: 0.3765 - val_accuracy: 0.8342\n",
            "Epoch 98/100\n",
            "5359/5359 [==============================] - 1s 177us/step - loss: 0.4125 - accuracy: 0.8268 - val_loss: 0.3762 - val_accuracy: 0.8345\n",
            "Epoch 99/100\n",
            "5359/5359 [==============================] - 1s 175us/step - loss: 0.4054 - accuracy: 0.8222 - val_loss: 0.3748 - val_accuracy: 0.8338\n",
            "Epoch 100/100\n",
            "5359/5359 [==============================] - 1s 173us/step - loss: 0.4047 - accuracy: 0.8225 - val_loss: 0.3764 - val_accuracy: 0.8315\n"
          ],
          "name": "stdout"
        }
      ]
    },
    {
      "cell_type": "code",
      "metadata": {
        "id": "Wvdh0k-au5Zj",
        "colab_type": "code",
        "colab": {
          "base_uri": "https://localhost:8080/",
          "height": 35
        },
        "outputId": "2a366f3f-c426-4cd6-bf77-49749d2dd092"
      },
      "source": [
        "# List all data in history\n",
        "print(model_history.history.keys())"
      ],
      "execution_count": 52,
      "outputs": [
        {
          "output_type": "stream",
          "text": [
            "dict_keys(['val_loss', 'val_accuracy', 'loss', 'accuracy'])\n"
          ],
          "name": "stdout"
        }
      ]
    },
    {
      "cell_type": "code",
      "metadata": {
        "id": "yCTBhPW2pIN5",
        "colab_type": "code",
        "colab": {
          "base_uri": "https://localhost:8080/",
          "height": 295
        },
        "outputId": "37255478-173c-4f82-be30-ebdc76c9cd66"
      },
      "source": [
        "plt.plot(model_history.history['accuracy'])\n",
        "plt.plot(model_history.history['val_accuracy'])\n",
        "plt.title('model accuracy')\n",
        "plt.ylabel('accuracy')\n",
        "plt.xlabel('epoch')\n",
        "plt.legend(['train','test'], loc='upper left')\n",
        "plt.show()"
      ],
      "execution_count": 54,
      "outputs": [
        {
          "output_type": "display_data",
          "data": {
            "image/png": "[encoded data removed]",
            "text/plain": [
              "<Figure size 432x288 with 1 Axes>"
            ]
          },
          "metadata": {
            "tags": [],
            "needs_background": "light"
          }
        }
      ]
    },
    {
      "cell_type": "code",
      "metadata": {
        "id": "Kv_gB3Ke6y0K",
        "colab_type": "code",
        "colab": {
          "base_uri": "https://localhost:8080/",
          "height": 279
        },
        "outputId": "5623edda-9758-40d7-9237-ffdb842f037d"
      },
      "source": [
        "# summarize history for loss\n",
        "plt.plot(model_history.history['loss'])\n",
        "plt.plot(model_history.history['val_loss'])\n",
        "plt.ylabel('loss')\n",
        "plt.xlabel('epoch')\n",
        "plt.legend(['train','test'], loc='upper left')\n",
        "plt.show()"
      ],
      "execution_count": 55,
      "outputs": [
        {
          "output_type": "display_data",
          "data": {
            "image/png": "[encoded data removed]",
            "text/plain": [
              "<Figure size 432x288 with 1 Axes>"
            ]
          },
          "metadata": {
            "tags": [],
            "needs_background": "light"
          }
        }
      ]
    },
    {
      "cell_type": "code",
      "metadata": {
        "id": "7KASc4bP8kVg",
        "colab_type": "code",
        "colab": {}
      },
      "source": [
        "# part 3 - Making the predictions and evaluating the midel"
      ],
      "execution_count": 0,
      "outputs": []
    },
    {
      "cell_type": "code",
      "metadata": {
        "id": "QLdZ5WaT8T_5",
        "colab_type": "code",
        "colab": {
          "base_uri": "https://localhost:8080/",
          "height": 139
        },
        "outputId": "acf8464a-a1e8-4690-ecce-f2db90288e3f"
      },
      "source": [
        "# Predicting the Test set results\n",
        "y_pred = classifier.predict(X_test)\n",
        "y_pred = (y_pred > 0.5)\n",
        "y_pred"
      ],
      "execution_count": 68,
      "outputs": [
        {
          "output_type": "execute_result",
          "data": {
            "text/plain": [
              "array([[False],\n",
              "       [False],\n",
              "       [False],\n",
              "       ...,\n",
              "       [False],\n",
              "       [False],\n",
              "       [False]])"
            ]
          },
          "metadata": {
            "tags": []
          },
          "execution_count": 68
        }
      ]
    },
    {
      "cell_type": "code",
      "metadata": {
        "id": "KVspwTVX8hg8",
        "colab_type": "code",
        "colab": {
          "base_uri": "https://localhost:8080/",
          "height": 52
        },
        "outputId": "c2930a41-1941-49c2-eacf-d71131d9f3b9"
      },
      "source": [
        "# Making the confusion Matrix\n",
        "from sklearn.metrics import confusion_matrix\n",
        "cm = confusion_matrix(y_test,y_pred)\n",
        "cm"
      ],
      "execution_count": 69,
      "outputs": [
        {
          "output_type": "execute_result",
          "data": {
            "text/plain": [
              "array([[1571,   24],\n",
              "       [ 291,  114]])"
            ]
          },
          "metadata": {
            "tags": []
          },
          "execution_count": 69
        }
      ]
    },
    {
      "cell_type": "code",
      "metadata": {
        "id": "5ep5LhxA9L5R",
        "colab_type": "code",
        "colab": {
          "base_uri": "https://localhost:8080/",
          "height": 35
        },
        "outputId": "f40ab01a-cf8c-4b93-9752-ca5322e12595"
      },
      "source": [
        "# Calculate the Accuracy\n",
        "from sklearn.metrics import accuracy_score\n",
        "score = accuracy_score(y_pred, y_test)\n",
        "score"
      ],
      "execution_count": 71,
      "outputs": [
        {
          "output_type": "execute_result",
          "data": {
            "text/plain": [
              "0.8425"
            ]
          },
          "metadata": {
            "tags": []
          },
          "execution_count": 71
        }
      ]
    },
    {
      "cell_type": "code",
      "metadata": {
        "id": "3wsUThvK8hs7",
        "colab_type": "code",
        "colab": {}
      },
      "source": [
        ""
      ],
      "execution_count": 0,
      "outputs": []
    }
  ]
}