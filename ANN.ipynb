{
  "nbformat": 4,
  "nbformat_minor": 0,
  "metadata": {
    "kernelspec": {
      "display_name": "Python 3",
      "language": "python",
      "name": "python3"
    },
    "language_info": {
      "codemirror_mode": {
        "name": "ipython",
        "version": 3
      },
      "file_extension": ".py",
      "mimetype": "text/x-python",
      "name": "python",
      "nbconvert_exporter": "python",
      "pygments_lexer": "ipython3",
      "version": "3.7.3"
    },
    "colab": {
      "name": "ANN.ipynb",
      "provenance": [],
      "include_colab_link": true
    }
  },
  "cells": [
    {
      "cell_type": "markdown",
      "metadata": {
        "id": "view-in-github",
        "colab_type": "text"
      },
      "source": [
        "<a href=\"https://colab.research.google.com/github/Darktechie-programmer/Deep_learning/blob/master/ANN.ipynb\" target=\"_parent\"><img src=\"https://colab.research.google.com/assets/colab-badge.svg\" alt=\"Open In Colab\"/></a>"
      ]
    },
    {
      "cell_type": "markdown",
      "metadata": {
        "id": "hNO2OZxen8x6",
        "colab_type": "text"
      },
      "source": [
        "##### Keras :\n",
        "         * Keras is an open-source neural-network library written in Python. It is capable of running on top of TensorFlow, Microsoft Cognitive Toolkit, Theano, or PlaidML. Designed to enable fast experimentation with deep neural networks, it focuses on being user-friendly, modular, and extensible."
      ]
    },
    {
      "cell_type": "markdown",
      "metadata": {
        "id": "zLpUQX58n8x-",
        "colab_type": "text"
      },
      "source": [
        "#### Tensorflow :\n",
        "    * TensorFlow is a free and open-source software library for dataflow and differentiable programming across a range of tasks. It is a symbolic math library, and is also used for machine learning applications such as neural networks."
      ]
    },
    {
      "cell_type": "markdown",
      "metadata": {
        "id": "bi9ZnYZgn8yA",
        "colab_type": "text"
      },
      "source": [
        "### Artificial Neural Network"
      ]
    },
    {
      "cell_type": "code",
      "metadata": {
        "id": "sS9vLHVVn8yD",
        "colab_type": "code",
        "colab": {}
      },
      "source": [
        "# part 1 - Data Preprocessing"
      ],
      "execution_count": 0,
      "outputs": []
    },
    {
      "cell_type": "code",
      "metadata": {
        "id": "uziNvKPkn8yQ",
        "colab_type": "code",
        "colab": {}
      },
      "source": [
        "# importing the libraries\n",
        "import numpy as np\n",
        "import matplotlib.pyplot as plt\n",
        "import pandas as pd"
      ],
      "execution_count": 0,
      "outputs": []
    },
    {
      "cell_type": "code",
      "metadata": {
        "id": "WeAtkdjan8yd",
        "colab_type": "code",
        "colab": {
          "base_uri": "https://localhost:8080/",
          "height": 222
        },
        "outputId": "ec7df036-e191-420f-a4bf-32dbe7709045"
      },
      "source": [
        "# Importing the dataset\n",
        "dataset = pd.read_csv(\"sample_data/Churn_Modelling.csv\")\n",
        "dataset.head()"
      ],
      "execution_count": 8,
      "outputs": [
        {
          "output_type": "execute_result",
          "data": {
            "text/html": [
              "<div>\n",
              "<style scoped>\n",
              "    .dataframe tbody tr th:only-of-type {\n",
              "        vertical-align: middle;\n",
              "    }\n",
              "\n",
              "    .dataframe tbody tr th {\n",
              "        vertical-align: top;\n",
              "    }\n",
              "\n",
              "    .dataframe thead th {\n",
              "        text-align: right;\n",
              "    }\n",
              "</style>\n",
              "<table border=\"1\" class=\"dataframe\">\n",
              "  <thead>\n",
              "    <tr style=\"text-align: right;\">\n",
              "      <th></th>\n",
              "      <th>RowNumber</th>\n",
              "      <th>CustomerId</th>\n",
              "      <th>Surname</th>\n",
              "      <th>CreditScore</th>\n",
              "      <th>Geography</th>\n",
              "      <th>Gender</th>\n",
              "      <th>Age</th>\n",
              "      <th>Tenure</th>\n",
              "      <th>Balance</th>\n",
              "      <th>NumOfProducts</th>\n",
              "      <th>HasCrCard</th>\n",
              "      <th>IsActiveMember</th>\n",
              "      <th>EstimatedSalary</th>\n",
              "      <th>Exited</th>\n",
              "    </tr>\n",
              "  </thead>\n",
              "  <tbody>\n",
              "    <tr>\n",
              "      <th>0</th>\n",
              "      <td>1</td>\n",
              "      <td>15634602</td>\n",
              "      <td>Hargrave</td>\n",
              "      <td>619</td>\n",
              "      <td>France</td>\n",
              "      <td>Female</td>\n",
              "      <td>42</td>\n",
              "      <td>2</td>\n",
              "      <td>0.00</td>\n",
              "      <td>1</td>\n",
              "      <td>1</td>\n",
              "      <td>1</td>\n",
              "      <td>101348.88</td>\n",
              "      <td>1</td>\n",
              "    </tr>\n",
              "    <tr>\n",
              "      <th>1</th>\n",
              "      <td>2</td>\n",
              "      <td>15647311</td>\n",
              "      <td>Hill</td>\n",
              "      <td>608</td>\n",
              "      <td>Spain</td>\n",
              "      <td>Female</td>\n",
              "      <td>41</td>\n",
              "      <td>1</td>\n",
              "      <td>83807.86</td>\n",
              "      <td>1</td>\n",
              "      <td>0</td>\n",
              "      <td>1</td>\n",
              "      <td>112542.58</td>\n",
              "      <td>0</td>\n",
              "    </tr>\n",
              "    <tr>\n",
              "      <th>2</th>\n",
              "      <td>3</td>\n",
              "      <td>15619304</td>\n",
              "      <td>Onio</td>\n",
              "      <td>502</td>\n",
              "      <td>France</td>\n",
              "      <td>Female</td>\n",
              "      <td>42</td>\n",
              "      <td>8</td>\n",
              "      <td>159660.80</td>\n",
              "      <td>3</td>\n",
              "      <td>1</td>\n",
              "      <td>0</td>\n",
              "      <td>113931.57</td>\n",
              "      <td>1</td>\n",
              "    </tr>\n",
              "    <tr>\n",
              "      <th>3</th>\n",
              "      <td>4</td>\n",
              "      <td>15701354</td>\n",
              "      <td>Boni</td>\n",
              "      <td>699</td>\n",
              "      <td>France</td>\n",
              "      <td>Female</td>\n",
              "      <td>39</td>\n",
              "      <td>1</td>\n",
              "      <td>0.00</td>\n",
              "      <td>2</td>\n",
              "      <td>0</td>\n",
              "      <td>0</td>\n",
              "      <td>93826.63</td>\n",
              "      <td>0</td>\n",
              "    </tr>\n",
              "    <tr>\n",
              "      <th>4</th>\n",
              "      <td>5</td>\n",
              "      <td>15737888</td>\n",
              "      <td>Mitchell</td>\n",
              "      <td>850</td>\n",
              "      <td>Spain</td>\n",
              "      <td>Female</td>\n",
              "      <td>43</td>\n",
              "      <td>2</td>\n",
              "      <td>125510.82</td>\n",
              "      <td>1</td>\n",
              "      <td>1</td>\n",
              "      <td>1</td>\n",
              "      <td>79084.10</td>\n",
              "      <td>0</td>\n",
              "    </tr>\n",
              "  </tbody>\n",
              "</table>\n",
              "</div>"
            ],
            "text/plain": [
              "   RowNumber  CustomerId   Surname  ...  IsActiveMember EstimatedSalary Exited\n",
              "0          1    15634602  Hargrave  ...               1       101348.88      1\n",
              "1          2    15647311      Hill  ...               1       112542.58      0\n",
              "2          3    15619304      Onio  ...               0       113931.57      1\n",
              "3          4    15701354      Boni  ...               0        93826.63      0\n",
              "4          5    15737888  Mitchell  ...               1        79084.10      0\n",
              "\n",
              "[5 rows x 14 columns]"
            ]
          },
          "metadata": {
            "tags": []
          },
          "execution_count": 8
        }
      ]
    },
    {
      "cell_type": "code",
      "metadata": {
        "id": "XVsXvpWen8yq",
        "colab_type": "code",
        "colab": {
          "base_uri": "https://localhost:8080/",
          "height": 87
        },
        "outputId": "09327d1a-5d3d-47c7-95cf-c81e29a6d0e5"
      },
      "source": [
        "dataset.columns"
      ],
      "execution_count": 9,
      "outputs": [
        {
          "output_type": "execute_result",
          "data": {
            "text/plain": [
              "Index(['RowNumber', 'CustomerId', 'Surname', 'CreditScore', 'Geography',\n",
              "       'Gender', 'Age', 'Tenure', 'Balance', 'NumOfProducts', 'HasCrCard',\n",
              "       'IsActiveMember', 'EstimatedSalary', 'Exited'],\n",
              "      dtype='object')"
            ]
          },
          "metadata": {
            "tags": []
          },
          "execution_count": 9
        }
      ]
    },
    {
      "cell_type": "code",
      "metadata": {
        "id": "oPhQpGu3n8y0",
        "colab_type": "code",
        "colab": {}
      },
      "source": [
        "X = dataset.iloc[:,3:13]\n",
        "y = dataset.iloc[:,-1]"
      ],
      "execution_count": 0,
      "outputs": []
    },
    {
      "cell_type": "code",
      "metadata": {
        "id": "2INi-s1hn8y8",
        "colab_type": "code",
        "colab": {
          "base_uri": "https://localhost:8080/",
          "height": 202
        },
        "outputId": "22223ec3-61ac-43e9-f21e-80f39b0f5e2f"
      },
      "source": [
        "X.head()"
      ],
      "execution_count": 11,
      "outputs": [
        {
          "output_type": "execute_result",
          "data": {
            "text/html": [
              "<div>\n",
              "<style scoped>\n",
              "    .dataframe tbody tr th:only-of-type {\n",
              "        vertical-align: middle;\n",
              "    }\n",
              "\n",
              "    .dataframe tbody tr th {\n",
              "        vertical-align: top;\n",
              "    }\n",
              "\n",
              "    .dataframe thead th {\n",
              "        text-align: right;\n",
              "    }\n",
              "</style>\n",
              "<table border=\"1\" class=\"dataframe\">\n",
              "  <thead>\n",
              "    <tr style=\"text-align: right;\">\n",
              "      <th></th>\n",
              "      <th>CreditScore</th>\n",
              "      <th>Geography</th>\n",
              "      <th>Gender</th>\n",
              "      <th>Age</th>\n",
              "      <th>Tenure</th>\n",
              "      <th>Balance</th>\n",
              "      <th>NumOfProducts</th>\n",
              "      <th>HasCrCard</th>\n",
              "      <th>IsActiveMember</th>\n",
              "      <th>EstimatedSalary</th>\n",
              "    </tr>\n",
              "  </thead>\n",
              "  <tbody>\n",
              "    <tr>\n",
              "      <th>0</th>\n",
              "      <td>619</td>\n",
              "      <td>France</td>\n",
              "      <td>Female</td>\n",
              "      <td>42</td>\n",
              "      <td>2</td>\n",
              "      <td>0.00</td>\n",
              "      <td>1</td>\n",
              "      <td>1</td>\n",
              "      <td>1</td>\n",
              "      <td>101348.88</td>\n",
              "    </tr>\n",
              "    <tr>\n",
              "      <th>1</th>\n",
              "      <td>608</td>\n",
              "      <td>Spain</td>\n",
              "      <td>Female</td>\n",
              "      <td>41</td>\n",
              "      <td>1</td>\n",
              "      <td>83807.86</td>\n",
              "      <td>1</td>\n",
              "      <td>0</td>\n",
              "      <td>1</td>\n",
              "      <td>112542.58</td>\n",
              "    </tr>\n",
              "    <tr>\n",
              "      <th>2</th>\n",
              "      <td>502</td>\n",
              "      <td>France</td>\n",
              "      <td>Female</td>\n",
              "      <td>42</td>\n",
              "      <td>8</td>\n",
              "      <td>159660.80</td>\n",
              "      <td>3</td>\n",
              "      <td>1</td>\n",
              "      <td>0</td>\n",
              "      <td>113931.57</td>\n",
              "    </tr>\n",
              "    <tr>\n",
              "      <th>3</th>\n",
              "      <td>699</td>\n",
              "      <td>France</td>\n",
              "      <td>Female</td>\n",
              "      <td>39</td>\n",
              "      <td>1</td>\n",
              "      <td>0.00</td>\n",
              "      <td>2</td>\n",
              "      <td>0</td>\n",
              "      <td>0</td>\n",
              "      <td>93826.63</td>\n",
              "    </tr>\n",
              "    <tr>\n",
              "      <th>4</th>\n",
              "      <td>850</td>\n",
              "      <td>Spain</td>\n",
              "      <td>Female</td>\n",
              "      <td>43</td>\n",
              "      <td>2</td>\n",
              "      <td>125510.82</td>\n",
              "      <td>1</td>\n",
              "      <td>1</td>\n",
              "      <td>1</td>\n",
              "      <td>79084.10</td>\n",
              "    </tr>\n",
              "  </tbody>\n",
              "</table>\n",
              "</div>"
            ],
            "text/plain": [
              "   CreditScore Geography  Gender  ...  HasCrCard  IsActiveMember  EstimatedSalary\n",
              "0          619    France  Female  ...          1               1        101348.88\n",
              "1          608     Spain  Female  ...          0               1        112542.58\n",
              "2          502    France  Female  ...          1               0        113931.57\n",
              "3          699    France  Female  ...          0               0         93826.63\n",
              "4          850     Spain  Female  ...          1               1         79084.10\n",
              "\n",
              "[5 rows x 10 columns]"
            ]
          },
          "metadata": {
            "tags": []
          },
          "execution_count": 11
        }
      ]
    },
    {
      "cell_type": "code",
      "metadata": {
        "id": "Bx9JkGjmn8zC",
        "colab_type": "code",
        "colab": {}
      },
      "source": [
        "# Create Dummy variables...\n",
        "geography = pd.get_dummies(X[\"Geography\"],drop_first=True)\n",
        "gender = pd.get_dummies(X['Gender'],drop_first=True) # drop_first : it drop first dummy for multicoleanerity reason.... "
      ],
      "execution_count": 0,
      "outputs": []
    },
    {
      "cell_type": "code",
      "metadata": {
        "id": "pVxFuXWKn8zK",
        "colab_type": "code",
        "colab": {
          "base_uri": "https://localhost:8080/",
          "height": 202
        },
        "outputId": "16f3a36c-579a-4156-cabf-fa2875f0e9d5"
      },
      "source": [
        "# Concatenate the Data Frames\n",
        "X = pd.concat([X,geography,gender],axis=1)\n",
        "X.head()"
      ],
      "execution_count": 13,
      "outputs": [
        {
          "output_type": "execute_result",
          "data": {
            "text/html": [
              "<div>\n",
              "<style scoped>\n",
              "    .dataframe tbody tr th:only-of-type {\n",
              "        vertical-align: middle;\n",
              "    }\n",
              "\n",
              "    .dataframe tbody tr th {\n",
              "        vertical-align: top;\n",
              "    }\n",
              "\n",
              "    .dataframe thead th {\n",
              "        text-align: right;\n",
              "    }\n",
              "</style>\n",
              "<table border=\"1\" class=\"dataframe\">\n",
              "  <thead>\n",
              "    <tr style=\"text-align: right;\">\n",
              "      <th></th>\n",
              "      <th>CreditScore</th>\n",
              "      <th>Geography</th>\n",
              "      <th>Gender</th>\n",
              "      <th>Age</th>\n",
              "      <th>Tenure</th>\n",
              "      <th>Balance</th>\n",
              "      <th>NumOfProducts</th>\n",
              "      <th>HasCrCard</th>\n",
              "      <th>IsActiveMember</th>\n",
              "      <th>EstimatedSalary</th>\n",
              "      <th>Germany</th>\n",
              "      <th>Spain</th>\n",
              "      <th>Male</th>\n",
              "    </tr>\n",
              "  </thead>\n",
              "  <tbody>\n",
              "    <tr>\n",
              "      <th>0</th>\n",
              "      <td>619</td>\n",
              "      <td>France</td>\n",
              "      <td>Female</td>\n",
              "      <td>42</td>\n",
              "      <td>2</td>\n",
              "      <td>0.00</td>\n",
              "      <td>1</td>\n",
              "      <td>1</td>\n",
              "      <td>1</td>\n",
              "      <td>101348.88</td>\n",
              "      <td>0</td>\n",
              "      <td>0</td>\n",
              "      <td>0</td>\n",
              "    </tr>\n",
              "    <tr>\n",
              "      <th>1</th>\n",
              "      <td>608</td>\n",
              "      <td>Spain</td>\n",
              "      <td>Female</td>\n",
              "      <td>41</td>\n",
              "      <td>1</td>\n",
              "      <td>83807.86</td>\n",
              "      <td>1</td>\n",
              "      <td>0</td>\n",
              "      <td>1</td>\n",
              "      <td>112542.58</td>\n",
              "      <td>0</td>\n",
              "      <td>1</td>\n",
              "      <td>0</td>\n",
              "    </tr>\n",
              "    <tr>\n",
              "      <th>2</th>\n",
              "      <td>502</td>\n",
              "      <td>France</td>\n",
              "      <td>Female</td>\n",
              "      <td>42</td>\n",
              "      <td>8</td>\n",
              "      <td>159660.80</td>\n",
              "      <td>3</td>\n",
              "      <td>1</td>\n",
              "      <td>0</td>\n",
              "      <td>113931.57</td>\n",
              "      <td>0</td>\n",
              "      <td>0</td>\n",
              "      <td>0</td>\n",
              "    </tr>\n",
              "    <tr>\n",
              "      <th>3</th>\n",
              "      <td>699</td>\n",
              "      <td>France</td>\n",
              "      <td>Female</td>\n",
              "      <td>39</td>\n",
              "      <td>1</td>\n",
              "      <td>0.00</td>\n",
              "      <td>2</td>\n",
              "      <td>0</td>\n",
              "      <td>0</td>\n",
              "      <td>93826.63</td>\n",
              "      <td>0</td>\n",
              "      <td>0</td>\n",
              "      <td>0</td>\n",
              "    </tr>\n",
              "    <tr>\n",
              "      <th>4</th>\n",
              "      <td>850</td>\n",
              "      <td>Spain</td>\n",
              "      <td>Female</td>\n",
              "      <td>43</td>\n",
              "      <td>2</td>\n",
              "      <td>125510.82</td>\n",
              "      <td>1</td>\n",
              "      <td>1</td>\n",
              "      <td>1</td>\n",
              "      <td>79084.10</td>\n",
              "      <td>0</td>\n",
              "      <td>1</td>\n",
              "      <td>0</td>\n",
              "    </tr>\n",
              "  </tbody>\n",
              "</table>\n",
              "</div>"
            ],
            "text/plain": [
              "   CreditScore Geography  Gender  Age  ...  EstimatedSalary  Germany  Spain  Male\n",
              "0          619    France  Female   42  ...        101348.88        0      0     0\n",
              "1          608     Spain  Female   41  ...        112542.58        0      1     0\n",
              "2          502    France  Female   42  ...        113931.57        0      0     0\n",
              "3          699    France  Female   39  ...         93826.63        0      0     0\n",
              "4          850     Spain  Female   43  ...         79084.10        0      1     0\n",
              "\n",
              "[5 rows x 13 columns]"
            ]
          },
          "metadata": {
            "tags": []
          },
          "execution_count": 13
        }
      ]
    },
    {
      "cell_type": "code",
      "metadata": {
        "id": "0Y5syBk4n8zV",
        "colab_type": "code",
        "colab": {}
      },
      "source": [
        "# Drop Unnecessary columns\n",
        "X = X.drop(columns=['Geography','Gender'],axis=1)"
      ],
      "execution_count": 0,
      "outputs": []
    },
    {
      "cell_type": "code",
      "metadata": {
        "id": "f_i8uadYn8zb",
        "colab_type": "code",
        "colab": {
          "base_uri": "https://localhost:8080/",
          "height": 202
        },
        "outputId": "596bea97-dd85-4457-c0e3-a9c0dcf6b268"
      },
      "source": [
        "X.head()\n",
        "# X.columns"
      ],
      "execution_count": 15,
      "outputs": [
        {
          "output_type": "execute_result",
          "data": {
            "text/html": [
              "<div>\n",
              "<style scoped>\n",
              "    .dataframe tbody tr th:only-of-type {\n",
              "        vertical-align: middle;\n",
              "    }\n",
              "\n",
              "    .dataframe tbody tr th {\n",
              "        vertical-align: top;\n",
              "    }\n",
              "\n",
              "    .dataframe thead th {\n",
              "        text-align: right;\n",
              "    }\n",
              "</style>\n",
              "<table border=\"1\" class=\"dataframe\">\n",
              "  <thead>\n",
              "    <tr style=\"text-align: right;\">\n",
              "      <th></th>\n",
              "      <th>CreditScore</th>\n",
              "      <th>Age</th>\n",
              "      <th>Tenure</th>\n",
              "      <th>Balance</th>\n",
              "      <th>NumOfProducts</th>\n",
              "      <th>HasCrCard</th>\n",
              "      <th>IsActiveMember</th>\n",
              "      <th>EstimatedSalary</th>\n",
              "      <th>Germany</th>\n",
              "      <th>Spain</th>\n",
              "      <th>Male</th>\n",
              "    </tr>\n",
              "  </thead>\n",
              "  <tbody>\n",
              "    <tr>\n",
              "      <th>0</th>\n",
              "      <td>619</td>\n",
              "      <td>42</td>\n",
              "      <td>2</td>\n",
              "      <td>0.00</td>\n",
              "      <td>1</td>\n",
              "      <td>1</td>\n",
              "      <td>1</td>\n",
              "      <td>101348.88</td>\n",
              "      <td>0</td>\n",
              "      <td>0</td>\n",
              "      <td>0</td>\n",
              "    </tr>\n",
              "    <tr>\n",
              "      <th>1</th>\n",
              "      <td>608</td>\n",
              "      <td>41</td>\n",
              "      <td>1</td>\n",
              "      <td>83807.86</td>\n",
              "      <td>1</td>\n",
              "      <td>0</td>\n",
              "      <td>1</td>\n",
              "      <td>112542.58</td>\n",
              "      <td>0</td>\n",
              "      <td>1</td>\n",
              "      <td>0</td>\n",
              "    </tr>\n",
              "    <tr>\n",
              "      <th>2</th>\n",
              "      <td>502</td>\n",
              "      <td>42</td>\n",
              "      <td>8</td>\n",
              "      <td>159660.80</td>\n",
              "      <td>3</td>\n",
              "      <td>1</td>\n",
              "      <td>0</td>\n",
              "      <td>113931.57</td>\n",
              "      <td>0</td>\n",
              "      <td>0</td>\n",
              "      <td>0</td>\n",
              "    </tr>\n",
              "    <tr>\n",
              "      <th>3</th>\n",
              "      <td>699</td>\n",
              "      <td>39</td>\n",
              "      <td>1</td>\n",
              "      <td>0.00</td>\n",
              "      <td>2</td>\n",
              "      <td>0</td>\n",
              "      <td>0</td>\n",
              "      <td>93826.63</td>\n",
              "      <td>0</td>\n",
              "      <td>0</td>\n",
              "      <td>0</td>\n",
              "    </tr>\n",
              "    <tr>\n",
              "      <th>4</th>\n",
              "      <td>850</td>\n",
              "      <td>43</td>\n",
              "      <td>2</td>\n",
              "      <td>125510.82</td>\n",
              "      <td>1</td>\n",
              "      <td>1</td>\n",
              "      <td>1</td>\n",
              "      <td>79084.10</td>\n",
              "      <td>0</td>\n",
              "      <td>1</td>\n",
              "      <td>0</td>\n",
              "    </tr>\n",
              "  </tbody>\n",
              "</table>\n",
              "</div>"
            ],
            "text/plain": [
              "   CreditScore  Age  Tenure    Balance  ...  EstimatedSalary  Germany  Spain  Male\n",
              "0          619   42       2       0.00  ...        101348.88        0      0     0\n",
              "1          608   41       1   83807.86  ...        112542.58        0      1     0\n",
              "2          502   42       8  159660.80  ...        113931.57        0      0     0\n",
              "3          699   39       1       0.00  ...         93826.63        0      0     0\n",
              "4          850   43       2  125510.82  ...         79084.10        0      1     0\n",
              "\n",
              "[5 rows x 11 columns]"
            ]
          },
          "metadata": {
            "tags": []
          },
          "execution_count": 15
        }
      ]
    },
    {
      "cell_type": "code",
      "metadata": {
        "id": "gwr7Hmzzn8zh",
        "colab_type": "code",
        "colab": {}
      },
      "source": [
        "# Spliting dataset into traing set to testing set....\n",
        "from sklearn.model_selection import train_test_split\n",
        "X_train, X_test, y_train, y_test = train_test_split(X, y, test_size=0.2, random_state=0)"
      ],
      "execution_count": 0,
      "outputs": []
    },
    {
      "cell_type": "code",
      "metadata": {
        "id": "jHRjJb7wn8zo",
        "colab_type": "code",
        "colab": {}
      },
      "source": [
        "# Feature Scaling \n",
        "from sklearn.preprocessing import StandardScaler\n",
        "sc = StandardScaler()\n",
        "X_train = sc.fit_transform(X_train)\n",
        "X_test = sc.transform(X_test)"
      ],
      "execution_count": 0,
      "outputs": []
    },
    {
      "cell_type": "code",
      "metadata": {
        "id": "QC6N_xW8n8zu",
        "colab_type": "code",
        "colab": {}
      },
      "source": [
        "# part 2 - Now let's make ANN"
      ],
      "execution_count": 0,
      "outputs": []
    },
    {
      "cell_type": "code",
      "metadata": {
        "id": "duPPWhktn8zz",
        "colab_type": "code",
        "colab": {
          "base_uri": "https://localhost:8080/",
          "height": 35
        },
        "outputId": "550518ac-4c57-4fb5-9957-29f2c0df9a81"
      },
      "source": [
        "# Importing the keras libraries and packages..\n",
        "import keras\n",
        "from keras.models import Sequential  # most use...\n",
        "from keras.layers import Dense   # for creating hidden layers use it..\n",
        "# from keras.layers import LeakyReLU,PReLU,ELU \n",
        "from keras.layers import Dropout"
      ],
      "execution_count": 19,
      "outputs": [
        {
          "output_type": "stream",
          "text": [
            "Using TensorFlow backend.\n"
          ],
          "name": "stderr"
        }
      ]
    },
    {
      "cell_type": "code",
      "metadata": {
        "id": "QRVlKfcqn8z5",
        "colab_type": "code",
        "colab": {}
      },
      "source": [
        "# Initialising the ANN\n",
        "classifier = Sequential()"
      ],
      "execution_count": 0,
      "outputs": []
    },
    {
      "cell_type": "code",
      "metadata": {
        "id": "Szis0lK1n80A",
        "colab_type": "code",
        "colab": {}
      },
      "source": [
        "# Adding the input layer and the first hidden layer..\n",
        "classifier.add(Dense(units=6, kernel_initializer=\"he_uniform\",activation='relu',input_dim=11))"
      ],
      "execution_count": 0,
      "outputs": []
    },
    {
      "cell_type": "code",
      "metadata": {
        "id": "urZZzqznn80H",
        "colab_type": "code",
        "colab": {}
      },
      "source": [
        "# Adding the second hidden layer\n",
        "classifier.add(Dense(units=6, kernel_initializer=\"he_uniform\", activation='relu'))"
      ],
      "execution_count": 0,
      "outputs": []
    },
    {
      "cell_type": "code",
      "metadata": {
        "id": "8TLJUaHxn80N",
        "colab_type": "code",
        "colab": {}
      },
      "source": [
        "# Adding the output layer\n",
        "classifier.add(Dense(units=1, kernel_initializer=\"glorot_uniform\", activation='sigmoid'))"
      ],
      "execution_count": 0,
      "outputs": []
    },
    {
      "cell_type": "code",
      "metadata": {
        "id": "YQGmdGqvn80R",
        "colab_type": "code",
        "colab": {}
      },
      "source": [
        "# compiling the ANN\n",
        "classifier.compile(optimizer='adam', loss='binary_crossentropy', metrics=['accuracy'])"
      ],
      "execution_count": 0,
      "outputs": []
    },
    {
      "cell_type": "code",
      "metadata": {
        "id": "aPb2H4jmn80W",
        "colab_type": "code",
        "colab": {
          "base_uri": "https://localhost:8080/",
          "height": 260
        },
        "outputId": "5882e6fb-8157-47b2-c98a-e34a111a07c8"
      },
      "source": [
        "classifier.summary() # get the summary"
      ],
      "execution_count": 25,
      "outputs": [
        {
          "output_type": "stream",
          "text": [
            "Model: \"sequential_1\"\n",
            "_________________________________________________________________\n",
            "Layer (type)                 Output Shape              Param #   \n",
            "=================================================================\n",
            "dense_1 (Dense)              (None, 6)                 72        \n",
            "_________________________________________________________________\n",
            "dense_2 (Dense)              (None, 6)                 42        \n",
            "_________________________________________________________________\n",
            "dense_3 (Dense)              (None, 1)                 7         \n",
            "=================================================================\n",
            "Total params: 121\n",
            "Trainable params: 121\n",
            "Non-trainable params: 0\n",
            "_________________________________________________________________\n"
          ],
          "name": "stdout"
        }
      ]
    },
    {
      "cell_type": "code",
      "metadata": {
        "id": "1sBDtfJ5n80b",
        "colab_type": "code",
        "colab": {
          "base_uri": "https://localhost:8080/",
          "height": 1000
        },
        "outputId": "f9c21a2d-7054-4b5d-c452-4aeda1cee158"
      },
      "source": [
        "# Fitting the ANN to the Training set \n",
        "model_history = classifier.fit(X_train, y_train, validation_split=0.33, batch_size=10, nb_epoch=100)"
      ],
      "execution_count": 28,
      "outputs": [
        {
          "output_type": "stream",
          "text": [
            "Train on 5359 samples, validate on 2641 samples\n",
            "Epoch 1/100\n",
            "1230/5359 [=====>........................] - ETA: 0s - loss: 0.3174 - accuracy: 0.8650"
          ],
          "name": "stdout"
        },
        {
          "output_type": "stream",
          "text": [
            "/usr/local/lib/python3.6/dist-packages/ipykernel_launcher.py:1: UserWarning: The `nb_epoch` argument in `fit` has been renamed `epochs`.\n",
            "  \"\"\"Entry point for launching an IPython kernel.\n"
          ],
          "name": "stderr"
        },
        {
          "output_type": "stream",
          "text": [
            "5359/5359 [==============================] - 1s 147us/step - loss: 0.3281 - accuracy: 0.8642 - val_loss: 0.3531 - val_accuracy: 0.8580\n",
            "Epoch 2/100\n",
            "5359/5359 [==============================] - 1s 159us/step - loss: 0.3278 - accuracy: 0.8638 - val_loss: 0.3564 - val_accuracy: 0.8557\n",
            "Epoch 3/100\n",
            "5359/5359 [==============================] - 1s 150us/step - loss: 0.3284 - accuracy: 0.8642 - val_loss: 0.3543 - val_accuracy: 0.8557\n",
            "Epoch 4/100\n",
            "5359/5359 [==============================] - 1s 152us/step - loss: 0.3283 - accuracy: 0.8640 - val_loss: 0.3521 - val_accuracy: 0.8557\n",
            "Epoch 5/100\n",
            "5359/5359 [==============================] - 1s 148us/step - loss: 0.3281 - accuracy: 0.8655 - val_loss: 0.3520 - val_accuracy: 0.8591\n",
            "Epoch 6/100\n",
            "5359/5359 [==============================] - 1s 149us/step - loss: 0.3280 - accuracy: 0.8628 - val_loss: 0.3526 - val_accuracy: 0.8588\n",
            "Epoch 7/100\n",
            "5359/5359 [==============================] - 1s 148us/step - loss: 0.3279 - accuracy: 0.8655 - val_loss: 0.3533 - val_accuracy: 0.8557\n",
            "Epoch 8/100\n",
            "5359/5359 [==============================] - 1s 146us/step - loss: 0.3281 - accuracy: 0.8649 - val_loss: 0.3539 - val_accuracy: 0.8550\n",
            "Epoch 9/100\n",
            "5359/5359 [==============================] - 1s 151us/step - loss: 0.3279 - accuracy: 0.8664 - val_loss: 0.3531 - val_accuracy: 0.8554\n",
            "Epoch 10/100\n",
            "5359/5359 [==============================] - 1s 148us/step - loss: 0.3274 - accuracy: 0.8642 - val_loss: 0.3525 - val_accuracy: 0.8580\n",
            "Epoch 11/100\n",
            "5359/5359 [==============================] - 1s 151us/step - loss: 0.3272 - accuracy: 0.8647 - val_loss: 0.3529 - val_accuracy: 0.8573\n",
            "Epoch 12/100\n",
            "5359/5359 [==============================] - 1s 147us/step - loss: 0.3274 - accuracy: 0.8666 - val_loss: 0.3528 - val_accuracy: 0.8550\n",
            "Epoch 13/100\n",
            "5359/5359 [==============================] - 1s 156us/step - loss: 0.3278 - accuracy: 0.8664 - val_loss: 0.3516 - val_accuracy: 0.8557\n",
            "Epoch 14/100\n",
            "5359/5359 [==============================] - 1s 145us/step - loss: 0.3272 - accuracy: 0.8658 - val_loss: 0.3559 - val_accuracy: 0.8554\n",
            "Epoch 15/100\n",
            "5359/5359 [==============================] - 1s 145us/step - loss: 0.3276 - accuracy: 0.8666 - val_loss: 0.3516 - val_accuracy: 0.8573\n",
            "Epoch 16/100\n",
            "5359/5359 [==============================] - 1s 152us/step - loss: 0.3275 - accuracy: 0.8666 - val_loss: 0.3524 - val_accuracy: 0.8565\n",
            "Epoch 17/100\n",
            "5359/5359 [==============================] - 1s 153us/step - loss: 0.3276 - accuracy: 0.8664 - val_loss: 0.3524 - val_accuracy: 0.8557\n",
            "Epoch 18/100\n",
            "5359/5359 [==============================] - 1s 157us/step - loss: 0.3275 - accuracy: 0.8660 - val_loss: 0.3530 - val_accuracy: 0.8584\n",
            "Epoch 19/100\n",
            "5359/5359 [==============================] - 1s 153us/step - loss: 0.3265 - accuracy: 0.8662 - val_loss: 0.3520 - val_accuracy: 0.8573\n",
            "Epoch 20/100\n",
            "5359/5359 [==============================] - 1s 149us/step - loss: 0.3272 - accuracy: 0.8656 - val_loss: 0.3533 - val_accuracy: 0.8569\n",
            "Epoch 21/100\n",
            "5359/5359 [==============================] - 1s 145us/step - loss: 0.3269 - accuracy: 0.8668 - val_loss: 0.3519 - val_accuracy: 0.8561\n",
            "Epoch 22/100\n",
            "5359/5359 [==============================] - 1s 144us/step - loss: 0.3268 - accuracy: 0.8671 - val_loss: 0.3536 - val_accuracy: 0.8588\n",
            "Epoch 23/100\n",
            "5359/5359 [==============================] - 1s 143us/step - loss: 0.3268 - accuracy: 0.8668 - val_loss: 0.3526 - val_accuracy: 0.8561\n",
            "Epoch 24/100\n",
            "5359/5359 [==============================] - 1s 151us/step - loss: 0.3263 - accuracy: 0.8666 - val_loss: 0.3523 - val_accuracy: 0.8561\n",
            "Epoch 25/100\n",
            "5359/5359 [==============================] - 1s 153us/step - loss: 0.3272 - accuracy: 0.8649 - val_loss: 0.3521 - val_accuracy: 0.8576\n",
            "Epoch 26/100\n",
            "5359/5359 [==============================] - 1s 151us/step - loss: 0.3262 - accuracy: 0.8649 - val_loss: 0.3530 - val_accuracy: 0.8569\n",
            "Epoch 27/100\n",
            "5359/5359 [==============================] - 1s 149us/step - loss: 0.3263 - accuracy: 0.8662 - val_loss: 0.3531 - val_accuracy: 0.8561\n",
            "Epoch 28/100\n",
            "5359/5359 [==============================] - 1s 144us/step - loss: 0.3260 - accuracy: 0.8673 - val_loss: 0.3537 - val_accuracy: 0.8561\n",
            "Epoch 29/100\n",
            "5359/5359 [==============================] - 1s 144us/step - loss: 0.3261 - accuracy: 0.8681 - val_loss: 0.3526 - val_accuracy: 0.8573\n",
            "Epoch 30/100\n",
            "5359/5359 [==============================] - 1s 149us/step - loss: 0.3262 - accuracy: 0.8670 - val_loss: 0.3529 - val_accuracy: 0.8538\n",
            "Epoch 31/100\n",
            "5359/5359 [==============================] - 1s 155us/step - loss: 0.3259 - accuracy: 0.8673 - val_loss: 0.3533 - val_accuracy: 0.8565\n",
            "Epoch 32/100\n",
            "5359/5359 [==============================] - 1s 145us/step - loss: 0.3259 - accuracy: 0.8671 - val_loss: 0.3523 - val_accuracy: 0.8591\n",
            "Epoch 33/100\n",
            "5359/5359 [==============================] - 1s 146us/step - loss: 0.3257 - accuracy: 0.8683 - val_loss: 0.3523 - val_accuracy: 0.8595\n",
            "Epoch 34/100\n",
            "5359/5359 [==============================] - 1s 149us/step - loss: 0.3260 - accuracy: 0.8664 - val_loss: 0.3516 - val_accuracy: 0.8573\n",
            "Epoch 35/100\n",
            "5359/5359 [==============================] - 1s 175us/step - loss: 0.3260 - accuracy: 0.8681 - val_loss: 0.3541 - val_accuracy: 0.8561\n",
            "Epoch 36/100\n",
            "5359/5359 [==============================] - 1s 180us/step - loss: 0.3253 - accuracy: 0.8664 - val_loss: 0.3528 - val_accuracy: 0.8610\n",
            "Epoch 37/100\n",
            "5359/5359 [==============================] - 1s 187us/step - loss: 0.3255 - accuracy: 0.8664 - val_loss: 0.3534 - val_accuracy: 0.8565\n",
            "Epoch 38/100\n",
            "5359/5359 [==============================] - 1s 195us/step - loss: 0.3253 - accuracy: 0.8677 - val_loss: 0.3539 - val_accuracy: 0.8573\n",
            "Epoch 39/100\n",
            "5359/5359 [==============================] - 1s 190us/step - loss: 0.3249 - accuracy: 0.8664 - val_loss: 0.3549 - val_accuracy: 0.8550\n",
            "Epoch 40/100\n",
            "5359/5359 [==============================] - 1s 213us/step - loss: 0.3259 - accuracy: 0.8668 - val_loss: 0.3533 - val_accuracy: 0.8584\n",
            "Epoch 41/100\n",
            "5359/5359 [==============================] - 1s 183us/step - loss: 0.3256 - accuracy: 0.8681 - val_loss: 0.3524 - val_accuracy: 0.8588\n",
            "Epoch 42/100\n",
            "5359/5359 [==============================] - 1s 196us/step - loss: 0.3249 - accuracy: 0.8656 - val_loss: 0.3536 - val_accuracy: 0.8576\n",
            "Epoch 43/100\n",
            "5359/5359 [==============================] - 1s 218us/step - loss: 0.3253 - accuracy: 0.8692 - val_loss: 0.3523 - val_accuracy: 0.8580\n",
            "Epoch 44/100\n",
            "5359/5359 [==============================] - 1s 178us/step - loss: 0.3254 - accuracy: 0.8670 - val_loss: 0.3527 - val_accuracy: 0.8554\n",
            "Epoch 45/100\n",
            "5359/5359 [==============================] - 1s 194us/step - loss: 0.3246 - accuracy: 0.8666 - val_loss: 0.3530 - val_accuracy: 0.8588\n",
            "Epoch 46/100\n",
            "5359/5359 [==============================] - 1s 148us/step - loss: 0.3252 - accuracy: 0.8662 - val_loss: 0.3535 - val_accuracy: 0.8580\n",
            "Epoch 47/100\n",
            "5359/5359 [==============================] - 1s 146us/step - loss: 0.3251 - accuracy: 0.8671 - val_loss: 0.3521 - val_accuracy: 0.8561\n",
            "Epoch 48/100\n",
            "5359/5359 [==============================] - 1s 148us/step - loss: 0.3251 - accuracy: 0.8664 - val_loss: 0.3531 - val_accuracy: 0.8538\n",
            "Epoch 49/100\n",
            "5359/5359 [==============================] - 1s 141us/step - loss: 0.3249 - accuracy: 0.8681 - val_loss: 0.3542 - val_accuracy: 0.8557\n",
            "Epoch 50/100\n",
            "5359/5359 [==============================] - 1s 145us/step - loss: 0.3252 - accuracy: 0.8679 - val_loss: 0.3534 - val_accuracy: 0.8535\n",
            "Epoch 51/100\n",
            "5359/5359 [==============================] - 1s 145us/step - loss: 0.3245 - accuracy: 0.8681 - val_loss: 0.3533 - val_accuracy: 0.8580\n",
            "Epoch 52/100\n",
            "5359/5359 [==============================] - 1s 142us/step - loss: 0.3245 - accuracy: 0.8679 - val_loss: 0.3537 - val_accuracy: 0.8569\n",
            "Epoch 53/100\n",
            "5359/5359 [==============================] - 1s 142us/step - loss: 0.3249 - accuracy: 0.8677 - val_loss: 0.3537 - val_accuracy: 0.8561\n",
            "Epoch 54/100\n",
            "5359/5359 [==============================] - 1s 145us/step - loss: 0.3249 - accuracy: 0.8668 - val_loss: 0.3522 - val_accuracy: 0.8576\n",
            "Epoch 55/100\n",
            "5359/5359 [==============================] - 1s 158us/step - loss: 0.3249 - accuracy: 0.8683 - val_loss: 0.3546 - val_accuracy: 0.8554\n",
            "Epoch 56/100\n",
            "5359/5359 [==============================] - 1s 169us/step - loss: 0.3250 - accuracy: 0.8699 - val_loss: 0.3536 - val_accuracy: 0.8565\n",
            "Epoch 57/100\n",
            "5359/5359 [==============================] - 1s 194us/step - loss: 0.3248 - accuracy: 0.8662 - val_loss: 0.3536 - val_accuracy: 0.8573\n",
            "Epoch 58/100\n",
            "5359/5359 [==============================] - 1s 170us/step - loss: 0.3242 - accuracy: 0.8684 - val_loss: 0.3536 - val_accuracy: 0.8588\n",
            "Epoch 59/100\n",
            "5359/5359 [==============================] - 1s 180us/step - loss: 0.3250 - accuracy: 0.8670 - val_loss: 0.3524 - val_accuracy: 0.8584\n",
            "Epoch 60/100\n",
            "5359/5359 [==============================] - 1s 168us/step - loss: 0.3245 - accuracy: 0.8671 - val_loss: 0.3528 - val_accuracy: 0.8576\n",
            "Epoch 61/100\n",
            "5359/5359 [==============================] - 1s 155us/step - loss: 0.3242 - accuracy: 0.8707 - val_loss: 0.3535 - val_accuracy: 0.8561\n",
            "Epoch 62/100\n",
            "5359/5359 [==============================] - 1s 162us/step - loss: 0.3243 - accuracy: 0.8668 - val_loss: 0.3538 - val_accuracy: 0.8591\n",
            "Epoch 63/100\n",
            "5359/5359 [==============================] - 1s 154us/step - loss: 0.3249 - accuracy: 0.8666 - val_loss: 0.3551 - val_accuracy: 0.8550\n",
            "Epoch 64/100\n",
            "5359/5359 [==============================] - 1s 156us/step - loss: 0.3240 - accuracy: 0.8670 - val_loss: 0.3533 - val_accuracy: 0.8565\n",
            "Epoch 65/100\n",
            "5359/5359 [==============================] - 1s 148us/step - loss: 0.3243 - accuracy: 0.8684 - val_loss: 0.3545 - val_accuracy: 0.8535\n",
            "Epoch 66/100\n",
            "5359/5359 [==============================] - 1s 145us/step - loss: 0.3237 - accuracy: 0.8679 - val_loss: 0.3537 - val_accuracy: 0.8591\n",
            "Epoch 67/100\n",
            "5359/5359 [==============================] - 1s 147us/step - loss: 0.3242 - accuracy: 0.8696 - val_loss: 0.3545 - val_accuracy: 0.8554\n",
            "Epoch 68/100\n",
            "5359/5359 [==============================] - 1s 146us/step - loss: 0.3246 - accuracy: 0.8679 - val_loss: 0.3544 - val_accuracy: 0.8565\n",
            "Epoch 69/100\n",
            "5359/5359 [==============================] - 1s 149us/step - loss: 0.3241 - accuracy: 0.8681 - val_loss: 0.3534 - val_accuracy: 0.8573\n",
            "Epoch 70/100\n",
            "5359/5359 [==============================] - 1s 148us/step - loss: 0.3247 - accuracy: 0.8668 - val_loss: 0.3531 - val_accuracy: 0.8565\n",
            "Epoch 71/100\n",
            "5359/5359 [==============================] - 1s 146us/step - loss: 0.3240 - accuracy: 0.8679 - val_loss: 0.3533 - val_accuracy: 0.8599\n",
            "Epoch 72/100\n",
            "5359/5359 [==============================] - 1s 149us/step - loss: 0.3245 - accuracy: 0.8690 - val_loss: 0.3539 - val_accuracy: 0.8565\n",
            "Epoch 73/100\n",
            "5359/5359 [==============================] - 1s 153us/step - loss: 0.3243 - accuracy: 0.8670 - val_loss: 0.3533 - val_accuracy: 0.8576\n",
            "Epoch 74/100\n",
            "5359/5359 [==============================] - 1s 144us/step - loss: 0.3242 - accuracy: 0.8675 - val_loss: 0.3537 - val_accuracy: 0.8557\n",
            "Epoch 75/100\n",
            "5359/5359 [==============================] - 1s 152us/step - loss: 0.3235 - accuracy: 0.8690 - val_loss: 0.3564 - val_accuracy: 0.8561\n",
            "Epoch 76/100\n",
            "5359/5359 [==============================] - 1s 146us/step - loss: 0.3244 - accuracy: 0.8642 - val_loss: 0.3528 - val_accuracy: 0.8591\n",
            "Epoch 77/100\n",
            "5359/5359 [==============================] - 1s 145us/step - loss: 0.3242 - accuracy: 0.8681 - val_loss: 0.3533 - val_accuracy: 0.8576\n",
            "Epoch 78/100\n",
            "5359/5359 [==============================] - 1s 145us/step - loss: 0.3233 - accuracy: 0.8675 - val_loss: 0.3567 - val_accuracy: 0.8550\n",
            "Epoch 79/100\n",
            "5359/5359 [==============================] - 1s 147us/step - loss: 0.3239 - accuracy: 0.8673 - val_loss: 0.3541 - val_accuracy: 0.8550\n",
            "Epoch 80/100\n",
            "5359/5359 [==============================] - 1s 147us/step - loss: 0.3238 - accuracy: 0.8690 - val_loss: 0.3551 - val_accuracy: 0.8557\n",
            "Epoch 81/100\n",
            "5359/5359 [==============================] - 1s 147us/step - loss: 0.3238 - accuracy: 0.8696 - val_loss: 0.3539 - val_accuracy: 0.8576\n",
            "Epoch 82/100\n",
            "5359/5359 [==============================] - 1s 143us/step - loss: 0.3242 - accuracy: 0.8675 - val_loss: 0.3529 - val_accuracy: 0.8580\n",
            "Epoch 83/100\n",
            "5359/5359 [==============================] - 1s 153us/step - loss: 0.3238 - accuracy: 0.8688 - val_loss: 0.3534 - val_accuracy: 0.8573\n",
            "Epoch 84/100\n",
            "5359/5359 [==============================] - 1s 162us/step - loss: 0.3236 - accuracy: 0.8675 - val_loss: 0.3537 - val_accuracy: 0.8603\n",
            "Epoch 85/100\n",
            "5359/5359 [==============================] - 1s 158us/step - loss: 0.3233 - accuracy: 0.8690 - val_loss: 0.3539 - val_accuracy: 0.8584\n",
            "Epoch 86/100\n",
            "5359/5359 [==============================] - 1s 155us/step - loss: 0.3236 - accuracy: 0.8696 - val_loss: 0.3537 - val_accuracy: 0.8573\n",
            "Epoch 87/100\n",
            "5359/5359 [==============================] - 1s 157us/step - loss: 0.3238 - accuracy: 0.8675 - val_loss: 0.3558 - val_accuracy: 0.8557\n",
            "Epoch 88/100\n",
            "5359/5359 [==============================] - 1s 156us/step - loss: 0.3233 - accuracy: 0.8681 - val_loss: 0.3546 - val_accuracy: 0.8569\n",
            "Epoch 89/100\n",
            "5359/5359 [==============================] - 1s 158us/step - loss: 0.3234 - accuracy: 0.8692 - val_loss: 0.3533 - val_accuracy: 0.8573\n",
            "Epoch 90/100\n",
            "5359/5359 [==============================] - 1s 157us/step - loss: 0.3234 - accuracy: 0.8690 - val_loss: 0.3528 - val_accuracy: 0.8576\n",
            "Epoch 91/100\n",
            "5359/5359 [==============================] - 1s 159us/step - loss: 0.3238 - accuracy: 0.8666 - val_loss: 0.3543 - val_accuracy: 0.8588\n",
            "Epoch 92/100\n",
            "5359/5359 [==============================] - 1s 150us/step - loss: 0.3235 - accuracy: 0.8677 - val_loss: 0.3540 - val_accuracy: 0.8584\n",
            "Epoch 93/100\n",
            "5359/5359 [==============================] - 1s 150us/step - loss: 0.3237 - accuracy: 0.8690 - val_loss: 0.3544 - val_accuracy: 0.8557\n",
            "Epoch 94/100\n",
            "5359/5359 [==============================] - 1s 160us/step - loss: 0.3234 - accuracy: 0.8696 - val_loss: 0.3537 - val_accuracy: 0.8550\n",
            "Epoch 95/100\n",
            "5359/5359 [==============================] - 1s 150us/step - loss: 0.3230 - accuracy: 0.8686 - val_loss: 0.3541 - val_accuracy: 0.8569\n",
            "Epoch 96/100\n",
            "5359/5359 [==============================] - 1s 147us/step - loss: 0.3236 - accuracy: 0.8694 - val_loss: 0.3536 - val_accuracy: 0.8561\n",
            "Epoch 97/100\n",
            "5359/5359 [==============================] - 1s 151us/step - loss: 0.3227 - accuracy: 0.8670 - val_loss: 0.3533 - val_accuracy: 0.8561\n",
            "Epoch 98/100\n",
            "5359/5359 [==============================] - 1s 150us/step - loss: 0.3229 - accuracy: 0.8683 - val_loss: 0.3544 - val_accuracy: 0.8588\n",
            "Epoch 99/100\n",
            "5359/5359 [==============================] - 1s 146us/step - loss: 0.3234 - accuracy: 0.8692 - val_loss: 0.3535 - val_accuracy: 0.8573\n",
            "Epoch 100/100\n",
            "5359/5359 [==============================] - 1s 143us/step - loss: 0.3225 - accuracy: 0.8692 - val_loss: 0.3537 - val_accuracy: 0.8554\n"
          ],
          "name": "stdout"
        }
      ]
    },
    {
      "cell_type": "code",
      "metadata": {
        "id": "g6bw-xqpn80g",
        "colab_type": "code",
        "colab": {}
      },
      "source": [
        ""
      ],
      "execution_count": 0,
      "outputs": []
    },
    {
      "cell_type": "code",
      "metadata": {
        "id": "yCTBhPW2pIN5",
        "colab_type": "code",
        "colab": {}
      },
      "source": [
        ""
      ],
      "execution_count": 0,
      "outputs": []
    }
  ]
}